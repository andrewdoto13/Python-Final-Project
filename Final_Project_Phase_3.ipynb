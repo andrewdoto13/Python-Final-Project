{
 "cells": [
  {
   "cell_type": "markdown",
   "metadata": {},
   "source": [
    "# I590 Python Final Project\n",
    "## Andrew Doto, Greg Platt, Thomas Kirnbauer"
   ]
  },
  {
   "cell_type": "markdown",
   "metadata": {},
   "source": [
    "# Phase 1 Solutions\n",
    "\n",
    "### Questions 1 -> 4"
   ]
  },
  {
   "cell_type": "code",
   "execution_count": 1,
   "metadata": {},
   "outputs": [
    {
     "name": "stdout",
     "output_type": "stream",
     "text": [
      "Scn       int64\n",
      "A2        int64\n",
      "A3        int64\n",
      "A4        int64\n",
      "A5        int64\n",
      "A6        int64\n",
      "A7       object\n",
      "A8        int64\n",
      "A9        int64\n",
      "A10       int64\n",
      "CLASS     int64\n",
      "dtype: object\n",
      "Number of NaN entries by column:\n",
      "Scn       0\n",
      "A2        0\n",
      "A3        0\n",
      "A4        0\n",
      "A5        0\n",
      "A6        0\n",
      "A7       16\n",
      "A8        0\n",
      "A9        0\n",
      "A10       0\n",
      "CLASS     0\n",
      "dtype: int64\n",
      "Scn      1.071704e+06\n",
      "A2       4.417740e+00\n",
      "A3       3.134478e+00\n",
      "A4       3.207439e+00\n",
      "A5       2.806867e+00\n",
      "A6       3.216023e+00\n",
      "A7       3.544656e+00\n",
      "A8       3.437768e+00\n",
      "A9       2.866953e+00\n",
      "A10      1.589413e+00\n",
      "CLASS    2.689557e+00\n",
      "dtype: float64\n",
      "Scn      0\n",
      "A2       0\n",
      "A3       0\n",
      "A4       0\n",
      "A5       0\n",
      "A6       0\n",
      "A7       0\n",
      "A8       0\n",
      "A9       0\n",
      "A10      0\n",
      "CLASS    0\n",
      "dtype: int64\n"
     ]
    }
   ],
   "source": [
    "import pandas as pd\n",
    "import numpy as np\n",
    "import matplotlib.pyplot as plt\n",
    "%matplotlib inline \n",
    "\n",
    "##Note: this prints the dataframe at the end of each step, if you don't want to see every step, you can comment out \n",
    "##lines reading print(df) without impacting the program\n",
    "\n",
    "##Step 1: import data and create dataframe\n",
    "data = pd.read_csv('Breast-Cancer-Wisconsin.csv')\n",
    "\n",
    "df = pd.DataFrame(data)\n",
    "df.head()\n",
    "\n",
    "##print(df)\n",
    "\n",
    "##Step 2: replace ? with Nan\n",
    "df['A7'] = df['A7'].replace('?', np.NaN)\n",
    "\n",
    "##print(df)\n",
    "print(df.dtypes)\n",
    "\n",
    "##Step 3: change A7 datatype to numeric\n",
    "\n",
    "df['A7'] = pd.to_numeric(df['A7'])\n",
    "\n",
    "##print(df)\n",
    "##print(df.dtypes)\n",
    "\n",
    "##Step 4: Count NaN\n",
    "print(\"Number of NaN entries by column:\")\n",
    "print(df.isnull().sum())\n",
    "\n",
    "##Step 5: Calculate Column Means\n",
    "print(df.mean(skipna='True'))\n",
    "\n",
    "##Step 6: Replace NaN with Column Mean\n",
    "df.fillna(value=(round(df.mean(skipna='True'),2)), inplace=True)\n",
    "print(df.isnull().sum())"
   ]
  },
  {
   "cell_type": "markdown",
   "metadata": {},
   "source": [
    "### Questions 5 - 8"
   ]
  },
  {
   "cell_type": "code",
   "execution_count": 2,
   "metadata": {},
   "outputs": [
    {
     "name": "stdout",
     "output_type": "stream",
     "text": [
      "The summary statistics for the dataframe:\n",
      "       count        mean        std      min       25%        50%        75%  \\\n",
      "Scn    699.0  1071704.10  617095.73  61634.0  870688.5  1171710.0  1238298.0   \n",
      "A2     699.0        4.42       2.82      1.0       2.0        4.0        6.0   \n",
      "A3     699.0        3.13       3.05      1.0       1.0        1.0        5.0   \n",
      "A4     699.0        3.21       2.97      1.0       1.0        1.0        5.0   \n",
      "A5     699.0        2.81       2.86      1.0       1.0        1.0        4.0   \n",
      "A6     699.0        3.22       2.21      1.0       2.0        2.0        4.0   \n",
      "A7     699.0        3.54       3.60      1.0       1.0        1.0        5.0   \n",
      "A8     699.0        3.44       2.44      1.0       2.0        3.0        5.0   \n",
      "A9     699.0        2.87       3.05      1.0       1.0        1.0        4.0   \n",
      "A10    699.0        1.59       1.72      1.0       1.0        1.0        1.0   \n",
      "CLASS  699.0        2.69       0.95      2.0       2.0        2.0        4.0   \n",
      "\n",
      "              max  \n",
      "Scn    13454352.0  \n",
      "A2           10.0  \n",
      "A3           10.0  \n",
      "A4           10.0  \n",
      "A5           10.0  \n",
      "A6           10.0  \n",
      "A7           10.0  \n",
      "A8           10.0  \n",
      "A9           10.0  \n",
      "A10          10.0  \n",
      "CLASS         4.0  \n",
      "\n",
      "The number of rows in the dataframe: 699\n",
      "The number of columns in the dataframe: 11\n",
      "The number of unique ID values: 645\n"
     ]
    },
    {
     "data": {
      "image/png": "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\n",
      "text/plain": [
       "<Figure size 720x720 with 9 Axes>"
      ]
     },
     "metadata": {
      "needs_background": "light"
     },
     "output_type": "display_data"
    }
   ],
   "source": [
    "#step 5,6 - summary statistics\n",
    "print('The summary statistics for the dataframe:')\n",
    "print(df.describe().transpose().round(2))\n",
    "print('\\nThe number of rows in the dataframe:', len(df))\n",
    "print('The number of columns in the dataframe:', len(df.columns))\n",
    "\n",
    "#step 7 - unique ID values\n",
    "print('The number of unique ID values:', df['Scn'].nunique())\n",
    "\n",
    "#step 8 - histograms for relevant columns\n",
    "import matplotlib.pyplot as plt\n",
    "hist = df.loc[:, 'A2':'A10'].hist(grid=False, figsize=(10,10), layout=(3,3), alpha = .75, color='c')\n",
    "plt.show()"
   ]
  },
  {
   "cell_type": "markdown",
   "metadata": {},
   "source": [
    "### Bar Chart"
   ]
  },
  {
   "cell_type": "markdown",
   "metadata": {},
   "source": [
    "Replace the 2 and 4 values with the categories that they represent, and then plot a bar chart"
   ]
  },
  {
   "cell_type": "code",
   "execution_count": 3,
   "metadata": {},
   "outputs": [
    {
     "data": {
      "text/plain": [
       "Text(0,0.5,'Count')"
      ]
     },
     "execution_count": 3,
     "metadata": {},
     "output_type": "execute_result"
    },
    {
     "data": {
      "image/png": "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\n",
      "text/plain": [
       "<Figure size 432x288 with 1 Axes>"
      ]
     },
     "metadata": {
      "needs_background": "light"
     },
     "output_type": "display_data"
    }
   ],
   "source": [
    "class_counts = df.groupby(['CLASS'], as_index=False).count()\n",
    "class_counts['CLASS'] = class_counts['CLASS'].replace(2, 'Benign').replace(4,'Malignant')\n",
    "barx = class_counts['CLASS']\n",
    "bary = class_counts['Scn']\n",
    "plt.bar(barx,bary,color=['green', 'red'])\n",
    "plt.title('Class Counts')\n",
    "plt.xlabel('Category')\n",
    "plt.ylabel('Count')"
   ]
  },
  {
   "cell_type": "markdown",
   "metadata": {},
   "source": [
    "### Scatterplot"
   ]
  },
  {
   "cell_type": "markdown",
   "metadata": {},
   "source": [
    "Select two columns and create a scatterplot"
   ]
  },
  {
   "cell_type": "code",
   "execution_count": 4,
   "metadata": {},
   "outputs": [
    {
     "data": {
      "text/plain": [
       "Text(0,0.5,'Mitoses')"
      ]
     },
     "execution_count": 4,
     "metadata": {},
     "output_type": "execute_result"
    },
    {
     "data": {
      "image/png": "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\n",
      "text/plain": [
       "<Figure size 432x288 with 1 Axes>"
      ]
     },
     "metadata": {
      "needs_background": "light"
     },
     "output_type": "display_data"
    }
   ],
   "source": [
    "scatterx = df['A9']\n",
    "scattery = df['A10']\n",
    "plt.scatter(scatterx, scattery, color='red')\n",
    "plt.title('Normal Nuclei and Mitoses')\n",
    "plt.xlabel('Normal Nuclei')\n",
    "plt.ylabel('Mitoses')"
   ]
  },
  {
   "cell_type": "markdown",
   "metadata": {},
   "source": [
    "### Summary"
   ]
  },
  {
   "cell_type": "markdown",
   "metadata": {},
   "source": [
    "Explore descriptive statistics and correlation matrix of the dataset"
   ]
  },
  {
   "cell_type": "code",
   "execution_count": 5,
   "metadata": {},
   "outputs": [
    {
     "data": {
      "text/html": [
       "<div>\n",
       "<style scoped>\n",
       "    .dataframe tbody tr th:only-of-type {\n",
       "        vertical-align: middle;\n",
       "    }\n",
       "\n",
       "    .dataframe tbody tr th {\n",
       "        vertical-align: top;\n",
       "    }\n",
       "\n",
       "    .dataframe thead th {\n",
       "        text-align: right;\n",
       "    }\n",
       "</style>\n",
       "<table border=\"1\" class=\"dataframe\">\n",
       "  <thead>\n",
       "    <tr style=\"text-align: right;\">\n",
       "      <th></th>\n",
       "      <th>Scn</th>\n",
       "      <th>A2</th>\n",
       "      <th>A3</th>\n",
       "      <th>A4</th>\n",
       "      <th>A5</th>\n",
       "      <th>A6</th>\n",
       "      <th>A7</th>\n",
       "      <th>A8</th>\n",
       "      <th>A9</th>\n",
       "      <th>A10</th>\n",
       "      <th>CLASS</th>\n",
       "    </tr>\n",
       "  </thead>\n",
       "  <tbody>\n",
       "    <tr>\n",
       "      <th>count</th>\n",
       "      <td>6.990000e+02</td>\n",
       "      <td>699.000000</td>\n",
       "      <td>699.000000</td>\n",
       "      <td>699.000000</td>\n",
       "      <td>699.000000</td>\n",
       "      <td>699.000000</td>\n",
       "      <td>699.000000</td>\n",
       "      <td>699.000000</td>\n",
       "      <td>699.000000</td>\n",
       "      <td>699.000000</td>\n",
       "      <td>699.000000</td>\n",
       "    </tr>\n",
       "    <tr>\n",
       "      <th>mean</th>\n",
       "      <td>1.071704e+06</td>\n",
       "      <td>4.417740</td>\n",
       "      <td>3.134478</td>\n",
       "      <td>3.207439</td>\n",
       "      <td>2.806867</td>\n",
       "      <td>3.216023</td>\n",
       "      <td>3.544549</td>\n",
       "      <td>3.437768</td>\n",
       "      <td>2.866953</td>\n",
       "      <td>1.589413</td>\n",
       "      <td>2.689557</td>\n",
       "    </tr>\n",
       "    <tr>\n",
       "      <th>std</th>\n",
       "      <td>6.170957e+05</td>\n",
       "      <td>2.815741</td>\n",
       "      <td>3.051459</td>\n",
       "      <td>2.971913</td>\n",
       "      <td>2.855379</td>\n",
       "      <td>2.214300</td>\n",
       "      <td>3.601852</td>\n",
       "      <td>2.438364</td>\n",
       "      <td>3.053634</td>\n",
       "      <td>1.715078</td>\n",
       "      <td>0.951273</td>\n",
       "    </tr>\n",
       "    <tr>\n",
       "      <th>min</th>\n",
       "      <td>6.163400e+04</td>\n",
       "      <td>1.000000</td>\n",
       "      <td>1.000000</td>\n",
       "      <td>1.000000</td>\n",
       "      <td>1.000000</td>\n",
       "      <td>1.000000</td>\n",
       "      <td>1.000000</td>\n",
       "      <td>1.000000</td>\n",
       "      <td>1.000000</td>\n",
       "      <td>1.000000</td>\n",
       "      <td>2.000000</td>\n",
       "    </tr>\n",
       "    <tr>\n",
       "      <th>25%</th>\n",
       "      <td>8.706885e+05</td>\n",
       "      <td>2.000000</td>\n",
       "      <td>1.000000</td>\n",
       "      <td>1.000000</td>\n",
       "      <td>1.000000</td>\n",
       "      <td>2.000000</td>\n",
       "      <td>1.000000</td>\n",
       "      <td>2.000000</td>\n",
       "      <td>1.000000</td>\n",
       "      <td>1.000000</td>\n",
       "      <td>2.000000</td>\n",
       "    </tr>\n",
       "    <tr>\n",
       "      <th>50%</th>\n",
       "      <td>1.171710e+06</td>\n",
       "      <td>4.000000</td>\n",
       "      <td>1.000000</td>\n",
       "      <td>1.000000</td>\n",
       "      <td>1.000000</td>\n",
       "      <td>2.000000</td>\n",
       "      <td>1.000000</td>\n",
       "      <td>3.000000</td>\n",
       "      <td>1.000000</td>\n",
       "      <td>1.000000</td>\n",
       "      <td>2.000000</td>\n",
       "    </tr>\n",
       "    <tr>\n",
       "      <th>75%</th>\n",
       "      <td>1.238298e+06</td>\n",
       "      <td>6.000000</td>\n",
       "      <td>5.000000</td>\n",
       "      <td>5.000000</td>\n",
       "      <td>4.000000</td>\n",
       "      <td>4.000000</td>\n",
       "      <td>5.000000</td>\n",
       "      <td>5.000000</td>\n",
       "      <td>4.000000</td>\n",
       "      <td>1.000000</td>\n",
       "      <td>4.000000</td>\n",
       "    </tr>\n",
       "    <tr>\n",
       "      <th>max</th>\n",
       "      <td>1.345435e+07</td>\n",
       "      <td>10.000000</td>\n",
       "      <td>10.000000</td>\n",
       "      <td>10.000000</td>\n",
       "      <td>10.000000</td>\n",
       "      <td>10.000000</td>\n",
       "      <td>10.000000</td>\n",
       "      <td>10.000000</td>\n",
       "      <td>10.000000</td>\n",
       "      <td>10.000000</td>\n",
       "      <td>4.000000</td>\n",
       "    </tr>\n",
       "  </tbody>\n",
       "</table>\n",
       "</div>"
      ],
      "text/plain": [
       "                Scn          A2          A3          A4          A5  \\\n",
       "count  6.990000e+02  699.000000  699.000000  699.000000  699.000000   \n",
       "mean   1.071704e+06    4.417740    3.134478    3.207439    2.806867   \n",
       "std    6.170957e+05    2.815741    3.051459    2.971913    2.855379   \n",
       "min    6.163400e+04    1.000000    1.000000    1.000000    1.000000   \n",
       "25%    8.706885e+05    2.000000    1.000000    1.000000    1.000000   \n",
       "50%    1.171710e+06    4.000000    1.000000    1.000000    1.000000   \n",
       "75%    1.238298e+06    6.000000    5.000000    5.000000    4.000000   \n",
       "max    1.345435e+07   10.000000   10.000000   10.000000   10.000000   \n",
       "\n",
       "               A6          A7          A8          A9         A10       CLASS  \n",
       "count  699.000000  699.000000  699.000000  699.000000  699.000000  699.000000  \n",
       "mean     3.216023    3.544549    3.437768    2.866953    1.589413    2.689557  \n",
       "std      2.214300    3.601852    2.438364    3.053634    1.715078    0.951273  \n",
       "min      1.000000    1.000000    1.000000    1.000000    1.000000    2.000000  \n",
       "25%      2.000000    1.000000    2.000000    1.000000    1.000000    2.000000  \n",
       "50%      2.000000    1.000000    3.000000    1.000000    1.000000    2.000000  \n",
       "75%      4.000000    5.000000    5.000000    4.000000    1.000000    4.000000  \n",
       "max     10.000000   10.000000   10.000000   10.000000   10.000000    4.000000  "
      ]
     },
     "execution_count": 5,
     "metadata": {},
     "output_type": "execute_result"
    }
   ],
   "source": [
    "df.describe()"
   ]
  },
  {
   "cell_type": "code",
   "execution_count": 6,
   "metadata": {},
   "outputs": [
    {
     "data": {
      "text/html": [
       "<div>\n",
       "<style scoped>\n",
       "    .dataframe tbody tr th:only-of-type {\n",
       "        vertical-align: middle;\n",
       "    }\n",
       "\n",
       "    .dataframe tbody tr th {\n",
       "        vertical-align: top;\n",
       "    }\n",
       "\n",
       "    .dataframe thead th {\n",
       "        text-align: right;\n",
       "    }\n",
       "</style>\n",
       "<table border=\"1\" class=\"dataframe\">\n",
       "  <thead>\n",
       "    <tr style=\"text-align: right;\">\n",
       "      <th></th>\n",
       "      <th>Scn</th>\n",
       "      <th>A2</th>\n",
       "      <th>A3</th>\n",
       "      <th>A4</th>\n",
       "      <th>A5</th>\n",
       "      <th>A6</th>\n",
       "      <th>A7</th>\n",
       "      <th>A8</th>\n",
       "      <th>A9</th>\n",
       "      <th>A10</th>\n",
       "      <th>CLASS</th>\n",
       "    </tr>\n",
       "  </thead>\n",
       "  <tbody>\n",
       "    <tr>\n",
       "      <th>Scn</th>\n",
       "      <td>1.000000</td>\n",
       "      <td>-0.055308</td>\n",
       "      <td>-0.041603</td>\n",
       "      <td>-0.041576</td>\n",
       "      <td>-0.064878</td>\n",
       "      <td>-0.045528</td>\n",
       "      <td>-0.098658</td>\n",
       "      <td>-0.060051</td>\n",
       "      <td>-0.052072</td>\n",
       "      <td>-0.034901</td>\n",
       "      <td>-0.080226</td>\n",
       "    </tr>\n",
       "    <tr>\n",
       "      <th>A2</th>\n",
       "      <td>-0.055308</td>\n",
       "      <td>1.000000</td>\n",
       "      <td>0.644913</td>\n",
       "      <td>0.654589</td>\n",
       "      <td>0.486356</td>\n",
       "      <td>0.521816</td>\n",
       "      <td>0.587311</td>\n",
       "      <td>0.558428</td>\n",
       "      <td>0.535835</td>\n",
       "      <td>0.350034</td>\n",
       "      <td>0.716001</td>\n",
       "    </tr>\n",
       "    <tr>\n",
       "      <th>A3</th>\n",
       "      <td>-0.041603</td>\n",
       "      <td>0.644913</td>\n",
       "      <td>1.000000</td>\n",
       "      <td>0.906882</td>\n",
       "      <td>0.705582</td>\n",
       "      <td>0.751799</td>\n",
       "      <td>0.686808</td>\n",
       "      <td>0.755721</td>\n",
       "      <td>0.722865</td>\n",
       "      <td>0.458693</td>\n",
       "      <td>0.817904</td>\n",
       "    </tr>\n",
       "    <tr>\n",
       "      <th>A4</th>\n",
       "      <td>-0.041576</td>\n",
       "      <td>0.654589</td>\n",
       "      <td>0.906882</td>\n",
       "      <td>1.000000</td>\n",
       "      <td>0.683079</td>\n",
       "      <td>0.719668</td>\n",
       "      <td>0.709609</td>\n",
       "      <td>0.735948</td>\n",
       "      <td>0.719446</td>\n",
       "      <td>0.438911</td>\n",
       "      <td>0.818934</td>\n",
       "    </tr>\n",
       "    <tr>\n",
       "      <th>A5</th>\n",
       "      <td>-0.064878</td>\n",
       "      <td>0.486356</td>\n",
       "      <td>0.705582</td>\n",
       "      <td>0.683079</td>\n",
       "      <td>1.000000</td>\n",
       "      <td>0.599599</td>\n",
       "      <td>0.665059</td>\n",
       "      <td>0.666715</td>\n",
       "      <td>0.603352</td>\n",
       "      <td>0.417633</td>\n",
       "      <td>0.696800</td>\n",
       "    </tr>\n",
       "    <tr>\n",
       "      <th>A6</th>\n",
       "      <td>-0.045528</td>\n",
       "      <td>0.521816</td>\n",
       "      <td>0.751799</td>\n",
       "      <td>0.719668</td>\n",
       "      <td>0.599599</td>\n",
       "      <td>1.000000</td>\n",
       "      <td>0.581272</td>\n",
       "      <td>0.616102</td>\n",
       "      <td>0.628881</td>\n",
       "      <td>0.479101</td>\n",
       "      <td>0.682785</td>\n",
       "    </tr>\n",
       "    <tr>\n",
       "      <th>A7</th>\n",
       "      <td>-0.098658</td>\n",
       "      <td>0.587311</td>\n",
       "      <td>0.686808</td>\n",
       "      <td>0.709609</td>\n",
       "      <td>0.665059</td>\n",
       "      <td>0.581272</td>\n",
       "      <td>1.000000</td>\n",
       "      <td>0.675899</td>\n",
       "      <td>0.577363</td>\n",
       "      <td>0.338750</td>\n",
       "      <td>0.816064</td>\n",
       "    </tr>\n",
       "    <tr>\n",
       "      <th>A8</th>\n",
       "      <td>-0.060051</td>\n",
       "      <td>0.558428</td>\n",
       "      <td>0.755721</td>\n",
       "      <td>0.735948</td>\n",
       "      <td>0.666715</td>\n",
       "      <td>0.616102</td>\n",
       "      <td>0.675899</td>\n",
       "      <td>1.000000</td>\n",
       "      <td>0.665878</td>\n",
       "      <td>0.344169</td>\n",
       "      <td>0.756616</td>\n",
       "    </tr>\n",
       "    <tr>\n",
       "      <th>A9</th>\n",
       "      <td>-0.052072</td>\n",
       "      <td>0.535835</td>\n",
       "      <td>0.722865</td>\n",
       "      <td>0.719446</td>\n",
       "      <td>0.603352</td>\n",
       "      <td>0.628881</td>\n",
       "      <td>0.577363</td>\n",
       "      <td>0.665878</td>\n",
       "      <td>1.000000</td>\n",
       "      <td>0.428336</td>\n",
       "      <td>0.712244</td>\n",
       "    </tr>\n",
       "    <tr>\n",
       "      <th>A10</th>\n",
       "      <td>-0.034901</td>\n",
       "      <td>0.350034</td>\n",
       "      <td>0.458693</td>\n",
       "      <td>0.438911</td>\n",
       "      <td>0.417633</td>\n",
       "      <td>0.479101</td>\n",
       "      <td>0.338750</td>\n",
       "      <td>0.344169</td>\n",
       "      <td>0.428336</td>\n",
       "      <td>1.000000</td>\n",
       "      <td>0.423170</td>\n",
       "    </tr>\n",
       "    <tr>\n",
       "      <th>CLASS</th>\n",
       "      <td>-0.080226</td>\n",
       "      <td>0.716001</td>\n",
       "      <td>0.817904</td>\n",
       "      <td>0.818934</td>\n",
       "      <td>0.696800</td>\n",
       "      <td>0.682785</td>\n",
       "      <td>0.816064</td>\n",
       "      <td>0.756616</td>\n",
       "      <td>0.712244</td>\n",
       "      <td>0.423170</td>\n",
       "      <td>1.000000</td>\n",
       "    </tr>\n",
       "  </tbody>\n",
       "</table>\n",
       "</div>"
      ],
      "text/plain": [
       "            Scn        A2        A3        A4        A5        A6        A7  \\\n",
       "Scn    1.000000 -0.055308 -0.041603 -0.041576 -0.064878 -0.045528 -0.098658   \n",
       "A2    -0.055308  1.000000  0.644913  0.654589  0.486356  0.521816  0.587311   \n",
       "A3    -0.041603  0.644913  1.000000  0.906882  0.705582  0.751799  0.686808   \n",
       "A4    -0.041576  0.654589  0.906882  1.000000  0.683079  0.719668  0.709609   \n",
       "A5    -0.064878  0.486356  0.705582  0.683079  1.000000  0.599599  0.665059   \n",
       "A6    -0.045528  0.521816  0.751799  0.719668  0.599599  1.000000  0.581272   \n",
       "A7    -0.098658  0.587311  0.686808  0.709609  0.665059  0.581272  1.000000   \n",
       "A8    -0.060051  0.558428  0.755721  0.735948  0.666715  0.616102  0.675899   \n",
       "A9    -0.052072  0.535835  0.722865  0.719446  0.603352  0.628881  0.577363   \n",
       "A10   -0.034901  0.350034  0.458693  0.438911  0.417633  0.479101  0.338750   \n",
       "CLASS -0.080226  0.716001  0.817904  0.818934  0.696800  0.682785  0.816064   \n",
       "\n",
       "             A8        A9       A10     CLASS  \n",
       "Scn   -0.060051 -0.052072 -0.034901 -0.080226  \n",
       "A2     0.558428  0.535835  0.350034  0.716001  \n",
       "A3     0.755721  0.722865  0.458693  0.817904  \n",
       "A4     0.735948  0.719446  0.438911  0.818934  \n",
       "A5     0.666715  0.603352  0.417633  0.696800  \n",
       "A6     0.616102  0.628881  0.479101  0.682785  \n",
       "A7     0.675899  0.577363  0.338750  0.816064  \n",
       "A8     1.000000  0.665878  0.344169  0.756616  \n",
       "A9     0.665878  1.000000  0.428336  0.712244  \n",
       "A10    0.344169  0.428336  1.000000  0.423170  \n",
       "CLASS  0.756616  0.712244  0.423170  1.000000  "
      ]
     },
     "execution_count": 6,
     "metadata": {},
     "output_type": "execute_result"
    }
   ],
   "source": [
    "df.corr()"
   ]
  },
  {
   "cell_type": "markdown",
   "metadata": {},
   "source": [
    "According the exploratory analysis, the dataset has a considerable amount of collinearity. This suggests that we need to think about using some form of dimension reduction to find the most relevant variables. "
   ]
  },
  {
   "cell_type": "markdown",
   "metadata": {},
   "source": [
    "# Phase 2 Solutions"
   ]
  },
  {
   "cell_type": "markdown",
   "metadata": {},
   "source": [
    "### Part 1 (Use KMeans Algorithm)"
   ]
  },
  {
   "cell_type": "code",
   "execution_count": 7,
   "metadata": {},
   "outputs": [
    {
     "data": {
      "image/png": "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\n",
      "text/plain": [
       "<Figure size 432x288 with 1 Axes>"
      ]
     },
     "metadata": {
      "needs_background": "light"
     },
     "output_type": "display_data"
    }
   ],
   "source": [
    "#use correlations high values high correlation between columns (closer to one)\n",
    "f1 = df['A3'].values\n",
    "f2 = df['A8'].values\n",
    "\n",
    "#Make a scater plot with two highly correlated features\n",
    "plt.scatter(f1,f2)\n",
    "plt.title('Breast Cancer Dataset, A3 vs. A8')\n",
    "plt.show()\n"
   ]
  },
  {
   "cell_type": "code",
   "execution_count": 8,
   "metadata": {},
   "outputs": [
    {
     "name": "stdout",
     "output_type": "stream",
     "text": [
      "The KMeans model fit to Breast Cancer dataset: KMeans(algorithm='auto', copy_x=True, init='k-means++', max_iter=300,\n",
      "    n_clusters=4, n_init=10, n_jobs=1, precompute_distances='auto',\n",
      "    random_state=None, tol=0.0001, verbose=0)\n"
     ]
    },
    {
     "data": {
      "image/png": "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\n",
      "text/plain": [
       "<Figure size 432x288 with 1 Axes>"
      ]
     },
     "metadata": {
      "needs_background": "light"
     },
     "output_type": "display_data"
    }
   ],
   "source": [
    "#run the kmeans\n",
    "from sklearn.cluster import KMeans\n",
    "import numpy as np\n",
    "\n",
    "# run KMeans with 4 clusters\n",
    "model = KMeans(n_clusters=4)\n",
    "\n",
    "# create an array with the dataframe columns A2 - A10\n",
    "points = np.array(df.iloc[:,1:10])\n",
    "\n",
    "# fit kmeans object to df\n",
    "model.fit(points)\n",
    "print('The KMeans model fit to Breast Cancer dataset:', model.fit(points))\n",
    "labels = model.predict(points)\n",
    "\n",
    "\n",
    "#make a scatter plot with labels\n",
    "plt.scatter(f1,f2,c=labels)\n",
    "plt.title('Breast Cancer Dataset, KMeans')\n",
    "plt.show()\n",
    "\n"
   ]
  },
  {
   "cell_type": "code",
   "execution_count": 9,
   "metadata": {},
   "outputs": [
    {
     "name": "stdout",
     "output_type": "stream",
     "text": [
      "The centroids are:\n",
      " [[6.72151899 8.36708861 8.40506329 7.72151899 6.73417722 9.3164557\n",
      "  7.36708861 7.73417722 3.73417722]\n",
      " [2.97155361 1.25820569 1.3785558  1.3107221  2.0547046  1.35115974\n",
      "  2.07439825 1.21444201 1.10284464]\n",
      " [7.28282828 4.83838384 5.05050505 4.6969697  4.04040404 9.08626263\n",
      "  5.21212121 3.73737374 1.67676768]\n",
      " [7.46875    7.4375     7.         4.5        5.890625   3.5096875\n",
      "  5.578125   7.3125     2.28125   ]]\n"
     ]
    },
    {
     "data": {
      "text/plain": [
       "Text(0.5,1,'Breast Cancer Dataset, KMeans with Centriods')"
      ]
     },
     "execution_count": 9,
     "metadata": {},
     "output_type": "execute_result"
    },
    {
     "data": {
      "image/png": "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\n",
      "text/plain": [
       "<Figure size 432x288 with 1 Axes>"
      ]
     },
     "metadata": {
      "needs_background": "light"
     },
     "output_type": "display_data"
    }
   ],
   "source": [
    "#Calculate Centroids\n",
    "centroids = model.cluster_centers_\n",
    "print('The centroids are:\\n', centroids)\n",
    "\n",
    "# Assign the columns of centroids: centroids_x, centroids_y\n",
    "centroids_x = centroids[:,0]\n",
    "centroids_y = centroids[:,1]\n",
    "\n",
    "# Make a scatter plot of centroids_x and centroids_y\n",
    "plt.scatter(f1,f2,c=labels)\n",
    "plt.scatter(centroids_x,centroids_y, marker = 'X', s=150, c='black')\n",
    "plt.title('Breast Cancer Dataset, KMeans with Centriods')"
   ]
  },
  {
   "cell_type": "code",
   "execution_count": 10,
   "metadata": {},
   "outputs": [
    {
     "data": {
      "image/png": "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\n",
      "text/plain": [
       "<Figure size 432x288 with 1 Axes>"
      ]
     },
     "metadata": {
      "needs_background": "light"
     },
     "output_type": "display_data"
    }
   ],
   "source": [
    "# Instantiate the k range and the inertia variables\n",
    "k_range = range(1, 15)\n",
    "inertia_list = []\n",
    "\n",
    "# loop through the ks range and append the inertias to a list\n",
    "for k in k_range:\n",
    "    model=KMeans(n_clusters=k)\n",
    "    \n",
    "    # Fit model to points\n",
    "    model.fit(points)\n",
    "    \n",
    "    # Append the inertia to the list of inertias\n",
    "    inertia_list.append(model.inertia_)\n",
    "    \n",
    "# Plot k number of clusters by inertia\n",
    "plt.plot(k_range, inertia_list,'-ro', color='red')\n",
    "plt.xlabel('number of clusters')\n",
    "plt.ylabel('inertia')\n",
    "plt.xticks(k_range)\n",
    "plt.title('Number of Clusters by Inertia')\n",
    "plt.show()"
   ]
  },
  {
   "cell_type": "markdown",
   "metadata": {},
   "source": [
    "From the chart above, it appears that the last significant change in inertia occurs from 2 to 3, so the optimal number of clusters is 3."
   ]
  },
  {
   "cell_type": "code",
   "execution_count": 11,
   "metadata": {},
   "outputs": [
    {
     "data": {
      "text/plain": [
       "Text(0.5,1,'Standard Deviation of Columns')"
      ]
     },
     "execution_count": 11,
     "metadata": {},
     "output_type": "execute_result"
    },
    {
     "data": {
      "image/png": "iVBORw0KGgoAAAANSUhEUgAAAYkAAAEWCAYAAACT7WsrAAAABHNCSVQICAgIfAhkiAAAAAlwSFlzAAALEgAACxIB0t1+/AAAADl0RVh0U29mdHdhcmUAbWF0cGxvdGxpYiB2ZXJzaW9uIDIuMi4zLCBodHRwOi8vbWF0cGxvdGxpYi5vcmcvIxREBQAAH65JREFUeJzt3Xu8HVV99/HPl3ATw0WTFBFC4q2iRhqTA6ggAvpSVNSkzSM5WhWKpurjg5eKYrUqPtUHa6sUtfXBS5FSCSpgETDgBdAooOdwRzRyUaGhEAiXcPES+PaPWcdsNnvO2UnOPrMP5/t+vfYre2bWzPz2nJ357bXWzBrZJiIiopMtmg4gIiL6V5JERETUSpKIiIhaSRIREVErSSIiImolSURERK0kieg5SQdIunkctzdXkiVtOV7b3Ih97y7pXknTNnH9v5X0xfGOq4v9LpZ0U4n9OeO87cMkrRzPbUb/SJKYIiTtJ+nHku6WtFbSjyTtVZY9qv6TS/qVpAckrZN0V/ncb5G02d9327+xPd32g13E8YjkaPvjtt+0uXFsgn8E3l5iv6x9oSpHSrpa0n2Sbpb0dUnPbiDW6CNJElOApB2As4DPAI8HdgWOAX7XZFzd2Izawittbw/MAY4F3gd8adwCm3zmANeMsvyfgXcAR1J9R/4U+Cbwit6HFn3Ndl6P8hcwANxVs+wZwG+BB4F7R8pRnRwuA+4BbgI+0rLOXMDAG4HfALcDH2hZ/hjgROBO4GfAUcDNLcuPBq4H1pXli1uWHQb8CPg0sBb4e2Aa1S/h24EbgP9d9r9lzWf6FfDitnl7Aw8B88r0NmWbvwFuBT4PPKYsuxY4pGXdLcu+F7R89i3LssNL+XUltr8u8x8LPFD2eW95PRH4CHByy7ZfRXXyvgu4AHhG2+d4D3AlcDdwKrBtzWfeAvgg8GvgNuAkYMfyOe8tMd8HXN9h3aeVv//eo3yHdizbXFP28UFgi5a/2cq278aWLeteALypw9/3rnLMnl/m31Rif2PLuicCnwPOLsf4EuApZZnKdm4rx+fKkb9vXuP3Sk1ialgFPCjpK5JeJulxIwtsXwu8BbjIVVPETmXRfcAbgJ2oEsZbJS1q2+5+wNOBFwEfkvSMMv/DwFPK66VUyaTV9cALqE48xwAnS9qlZfk+VCePPwE+BrwZOAR4DlXCW7KxB8D2T4Cby34BPkH1a3k+8FSq2tWHyrJTgMGW1V8K3G770g6bvq3EtgNVwvi0pAW27wNeBqwux3W67dWtK0r607KvdwKzgHOAb0nauqXYa4CDgScBe1KdTDs5rLwOBJ4MTAc+a/t3tqeXMn9m+ykd1n0RVRL/Sc22oaqF7li2/UKq78bho5QfzT5UJ/QZwFeB5cBeVH+HvwQ+K2l6S/lBqu/J44DrqL4TAC8B9qf6O+4EHArcsYkxRY0kiSnA9j1UJ3QDXwDWSDpT0s6jrHOB7atsP2T7SqqT2Qvbih1j+wHbVwBXAH9W5r8G+JjttbZvAo5v2/bXba8u2z4V+CXVL/0Rq21/xvZ62w+U7R1n+ybba4H/t4mHYjXweEmiSjzvKjGuAz4OLC3lvgq8StJ2Zfq1Zd4j2D7b9vWuXAicx4ZENJZDgbNtf8f2H6hqNo+h+mU94vhyrNYC36JKap28DviU7Rts3wu8H1jaZXPdDOCWuoWlk/5Q4P2219n+FfBPwOu72HYnN9r+N1f9OqcCs4GPloR2HvB7qoQx4nTbP7G9HvgPNhyDPwDbA3sAsn2t7drPEZsmSWKKKP+BDrO9GzCPqunjuLrykvaRdL6kNZLupqptzGwr9t8t7++n+vVK2fZNLct+3bbtN0i6vHQq31Xiad1267pjbm8j7ErVhDUL2A4YbolhRZmP7euompBeWRLFq6hJEqVmdnG5GOAu4OU88jjVeWLrZ7H9ENXn3LWlTN0xHnVb5f2WQO0PgRZ3ALuMsnwmsHWH7e/aufiYbm15/wCA7fZ5rZ+z4zGw/X3gs1TNUbdKOqH0v8U4SpKYgmz/nKqtd97IrA7FvgqcCcy2vSNVm7263MUtVL8OR+w+8kbSHKrazNuBGaV56+q2bbfHU7u9bpUruXYFVlL1LzwAPMv2TuW1Y0uzDGxocno18LOSONq3uQ1wGlUNYOfyWc5p+SxjDbG8mqpDeWR7ovqc/7Wxn699W1THaD0PPyHX+R6wm6SBmuW3U/1qb99+pzjvK/9u1zLvCV3EsElsH297IfAsqmano3q1r6kqSWIKkLSHpL+RtFuZnk11Ary4FLmV6iTR2ha+PbDW9m8l7U3V5NKtrwHvl/S4ss//07LssVQnzzUllsPZkKxG296RknYr/SlHdxuIpB0kHULV7n3ySBMaVaL6tKQ/KeV2lfTSllWXU7V5v5WaWgTVr+ttymdZL+llZZ0RtwIzJO04yud6haQXSdoK+BuqK85+3O3na3EK8C5JTyrt+R8HTi1NNKOy/UvgX4BTymW7W0vaVtJSSUeXZqGvAR+TtH1J9O8GTu6wrTVUyeMvJU2T9FdUfVPjTtJepca7FVVyGrkAI8ZRksTUsI6qs/ASSfdRJYerqU5KAN+nusLmvyXdXua9DfiopHVUHbpf24j9HUPVHHEjVRv9v48ssP0zqvbsi6hOos+mutplNF8AzqXq97gUOL2LGL5VYr8J+ADwKR7e0fo+qk7QiyXdA3yXqhN+JM5bSozPp2o3f4TSl3Ek1bG5kyqRntmy/OdUJ+8bSrPWE9vW/wVVR+1nqH6tv5Lq0t3fd/H52n2Z6jj/gOq4/5aHJ+exHMmGppu7qC4uWEzVD0LZ1n1UFxSspEqcX67Z1pupftHfQfULf1OSXjd2oPpu3En1fbuDqlYX40h2HjoUERGdpSYRERG1kiQiIqJWkkRERNRKkoiIiFoTPtTyeJs5c6bnzp3bdBgREZPGzJkzOffcc8+1ffBYZSd9kpg7dy5DQ0NNhxERMalI6mpkgDQ3RURErSSJiIiolSQRERG1kiQiIqJWkkRERNRKkoiIiFpJEhERUStJIiIiak36m+kYHgZ1+8C0iI2UofRjiktNIiIiaiVJRERErSSJiIiolSQRERG1kiQiIqJWT5OEpMWSLGmPlnkrJN0l6ay2sk+SdImkX0o6VdLWvYwtIiLG1uuaxCCwEljaMu+TwOs7lP0E8GnbTwPuBI7ocWwRETGGniUJSdOBfalO9n9MEra/B6xrKyvgIOAbZdZXgEW9ii0iIrrTy5rEImCF7VXAWkkLRik7A7jL9voyfTOwa11hScskDUkaWjN+8UZERJteJolBYHl5v7xM1+l0y3Ttra62T7A9YHtg1mYEGBERo+vJsBySZlA1H82TZGAaYEnvtTuOc3A7sJOkLUttYjdgdS9ii4iI7vWqJrEEOMn2HNtzbc8GbgT261S4JI7zy3oAbwT+s0exRUREl3qVJAaBM9rmnQa8VtIPga8DL5J0s6SXluXvA94t6TqqPoov9Si2iIjokjq3/kweA5KHmg4iHr0m+f+PiDqShm0PjFUud1xHREStJImIiKiVJBEREbUm/5PpFi6EofRKRET0QmoSERFRK0kiIiJqJUlEREStJImIiKg1+Tuuh4dBncYHjIiokZsku5aaRERE1EqSiIiIWkkSERFRK0kiIiJqJUlEREStxpKEpMWSLGmPlnmfkHR1eR3aVGwREVFpsiYxCKwElgJIegWwAJgP7AMcJWmH5sKLiIhGkoSk6cC+wBGUJAE8E7jQ9nrb9wFXAAc3EV9ERFSaqkksAlbYXgWslbSAKim8TNJ2kmYCBwKzO60saZmkIUlDayYu5oiIKaepJDEILC/vlwODts8DzgF+DJwCXASs77Sy7RNsD9gemDUR0UZETFET/oxrSTOAm4HbAAPTyr9z3BKMpK8CJ9s+Z7Tt5RnXEbHRMixHXz/jeglwku05tufang3cCOxfEgiS9gT2BM5rIL6IiCiaGOBvEDi2bd5pwGHAPqoG67sH+EvbHZubIiJiYkx4krB9QId5x090HBERMbbccR0REbWSJCIiolaSRERE1Jr8T6ZbuBCGchFsREQvpCYRERG1kiQiIqJWkkRERNSa/H0Sw8NQ3YAXEeMtw1dMealJRERErSSJiIiolSQRERG1kiQiIqJWkkRERNRqLElIWizJkvZomfcPkq6RdK2k46VcthQR0aQmaxKDwEpgKYCk5wP7Uj1saB6wF/DCxqKLiIhmkoSk6VQJ4QhKkqB6hOm2wNbANsBWwK1NxBcREZWmahKLgBW2VwFrJS2wfRFwPnBLeZ1r+9pOK0taJmlI0tCaiYs5ImLKaSpJDALLy/vlwKCkpwLPAHYDdgUOkrR/p5Vtn2B7wPbArAkJNyJiaprwYTkkzQAOAuZJMjCNqqnpNuBi2/eWct8Gngv8YKJjjIiIShM1iSXASbbn2J5rezZwI7Ad8EJJW0raiqrTumNzU0RETIwmksQgcEbbvNOAJwDXA1cBVwBX2P7WBMcWEREtJry5yfYBHeYdP9FxRETE2HLHdURE1EqSiIiIWkkSERFRa/I/mW7hQhgaajqKiIhHpdQkIiKiVpJERETUSpKIiIhaSRIREVFr8ndcDw9Dnk0UEVONPSG7SU0iIiJqJUlEREStJImIiKiVJBEREbUaSxKSFkuypD3K9IGSLm95/VbSoqbii4iIZmsSg8BKYCmA7fNtz7c9n+rJdfcD5zUYX0TElNdIkpA0HdgXOIKSJNosAb5t+/4JDSwiIh6mqZrEImCF7VXAWkkL2pYvBU6Z+LAiIqJVU0liEFhe3i8v0wBI2gV4NnBu3cqSlkkakjS0pqdhRkRMbfIE3bX3xx1KM4CbgdsAA9PKv3NsW9I7gGfZXtbN9gYkZ6DwiJhyNvPcLWnY9sBY5ZqoSSwBTrI9x/Zc27OBG4H9yvJB0tQUEdEXmkgSg8AZbfNOA14raS4wG7hwgmOKiIgOuhrgrzQB/RuwDvgi8BzgaNsbfYmq7QM6zDu+ZXLXjd1mRET0Rrc1ib+yfQ/wEmAWcDhwbM+iioiIvtBtkhgZi/vlwL/ZvqJlXkREPEp1mySGJZ1HlSTOlbQ98FDvwoqIiH7Q7UOHjgDmAzfYvr9cxnp478KKiIh+0FWSsP2QpFuBZ0rqr6fZLVwIQ7lTIiKiF7q9uukTwKHAz4AHy2wDP+hRXBER0Qe6rRUsAp5u+3e9DCYiIvpLtx3XNwBb9TKQiIjoP93WJO4HLpf0PeCPtQnbR/Ykqo0xPAzK1bgRwGaP5xPRrtskcWZ5RUTEFNLt1U1f6XUgERHRf7rqk5B0iKTLJK2VdI+kdZLu6XVwERHRrG6bm44D/hy4yhP9AIqIiGhMt1c33QRcnQQRETG1dFuTeC9wjqQLefjVTZ/a1B1LWgycDjzD9s/LvN2phiKfTXWz3stt/2pT9xEREZun25rEx6gug90W2L7ltTkGgZXA0pZ5JwGftP0MYG+qR5xGRERDuq1JPN72S8Zrp5KmA/sCB1JdWvsRSc8EtrT9HQDb947X/iIiYtN0W5P4rqRxSxJUw3yssL0KWCtpAfCnwF2STi9XUn1S0rROK0taJmlI0tCacQwqIiIeTt30RUtaBzyWqj/iD1QPHLLtHTZpp9LZwHG2vyPpSKo+iEuAL1E9GvU3wKnAOba/NNq2BiRnDNiIIteWRJckDdseGKtctzfTbW7/wx+VZ1EcBMyTZGAaVSf16cBltm8o5b4JPJcqcURERAO6HSp8/07zbW/KUOFLgJNs/3XL9i8EtgYeJ2mW7TVUiSSVhIiIBnXbcX1Uy/ttqa48GqY6kW+sQeDYtnmnUV3l9B7ge5JUtv+FTdh+RESMk26bm17ZOi1pNvAPm7JD2wd0mHd8y+Sem7LdiIgYf91e3dTuZmDeeAYSERH9p9s+ic9QdS5DlVjmA1f0KqiIiOgP3fZJtHYgrwdOsf2jHsQTERF9ZPI/T2LhQhjKRVAREb0wapKQdBUbmpketojqZrp0MkdEPIqNVZM4ZEKiiIiIvjRqkrD965H3knYG9iqTP7GdEVojIh7lun186WuAnwD/C3gNcImkJb0MLCIimtft1U0fAPYaqT1ImgV8F/hGrwLr2vAwSE1HERETIQMYTrhub6bboq156Y6NWDciIiapbmsSKySdC5xSpg8FzulNSBER0S/GugT2qcDOto+S9OfAflSXv14E/McExBcREQ0aq8noOGAdgO3Tbb/b9ruoahHH9Tq4iIho1lhJYq7tK9tn2h4C5m7OjiUtlmRJe7TMe1DS5eV15uZsPyIiNt9YfRLbjrLsMZu570FgJdVzJD5S5j1ge/5mbjciIsbJWDWJn0p6c/tMSUdQPRRok0iaDuwLHEGVJCIiog+NVZN4J3CGpNexISkMUD1qdPFm7HcRsML2KklrJS2wfSmwraQhqpFmj7X9zc3YR0REbKaxhuW4FXi+pAPZ8JChs21/fzP3O8iGju/lZfpSYHfbqyU9Gfi+pKtsX9++sqRlwDKA3TczkIiIqCdP8B2MkmZQPdnuNqoRZqeVf+e4JRhJJwJn2R71ru4ByRkoPGKKyB3X40bSsO2Bsco1cdf0EuAk23Nsz7U9G7gR2E/SNgCSZlL1WfysgfgiIqLo9o7r8TQIHNs27zTgo8BMSQ9RJa9jbSdJREQ0aMKbm8ZbmpsippBJfr7qJ/3c3BQREZNEkkRERNRKkoiIiFpJEhERUauJq5vG18KFMJSu64iIXkhNIiIiaiVJRERErSSJiIioNfn7JIaHQWo6iojoN7nxblykJhEREbWSJCIiolaSRERE1EqSiIiIWkkSERFRq7EkIWmxJEvao23+DpL+S9Jnm4otIiIqTdYkBoGVwNK2+f8XuHDiw4mIiHaNJAlJ06keT3oELUlC0kJgZ+C8JuKKiIiHa6omsQhYYXsVsFbSAklbAP8EHDXWypKWSRqSNLSm15FGRExhTSWJQWB5eb+8TL8NOMf2TWOtbPsE2wO2B2b1MMiIiKluwoflkDQDOAiYJ8nANMDAD4EXSHobMB3YWtK9to+e6BgjIqLSRE1iCXCS7Tm259qeDdwIfN727rbnAu8pZZIgIiIa1ESSGATOaJt3GvDaBmKJiIhRyJN8pMQByXkuXUQ8wiQ/t/WapGHbA2OVyx3XERFRK0kiIiJqJUlEREStyf9kuoULYSi9EhERvZCaRERE1EqSiIiIWkkSERFRa/L3SQwPg9R0FBExmeQeiq6lJhEREbWSJCIiolaSRERE1EqSiIiIWkkSERFRq7EkIWmxJEvao0zPkTQs6XJJ10h6S1OxRUREpcmaxCCwElhapm8Bnm97PrAPcLSkJzYVXERENJQkJE0H9gWOoCQJ27+3/btSZJumYouIiA2aOhEvAlbYXgWslbQAQNJsSVcCNwGfsL2608qSlkkakjS0ZuJijoiYcppKEoPA8vJ+eZnG9k229wSeCrxR0s6dVrZ9gu0B2wOzJiTciIipacKH5ZA0AzgImCfJwDTAkt7r8ixV26slXQO8APjGRMcYERGVJmoSS4CTbM+xPdf2bOBGYD9JjwGQ9DiqPotfNBBfREQUTQzwNwgc2zbvNOAE4A+ldiHgH21fNdHBRUTEBvIkHw1xQHKeSxcRG2WSn/fGg6Rh2wNjlctlphERUStJIiIiaiVJRERErcn/ZLqFC2EovRIREb2QmkRERNRKkoiIiFpJEhERUStJIiIiak3+juvhYZCajiIieiU3vjUqNYmIiKiVJBEREbWSJCIiolaSRERE1EqSiIiIWo0lCUmLJVnSHmV6vqSLJF0j6UpJhzYVW0REVJqsSQwCK4GlZfp+4A22nwUcDBwnaaemgouIiIaShKTpVI8nPYKSJGyvsv3L8n41cBswq4n4IiKi0lRNYhGwwvYqYK2kBa0LJe0NbA1c32llScskDUkaWtP7WCMipqymksQgsLy8X16mAZC0C/DvwOG2H+q0su0TbA/YHkhVIyKidyZ8WA5JM4CDgHmSDEwDLOm9wPbA2cAHbV880bFFRMTDNVGTWAKcZHuO7bm2ZwM3AvsDZ5RlX28groiIaNNEkhikSgatTgNOpEoUh0m6vLzmT3RwERGxgTzJR1gckJyHl0Y8ik3yc1S/kjRse2CscrnjOiIiaiVJRERErSSJiIioNfmfTLdwIQylVyIiohdSk4iIiFpJEhERUStJIiIiaiVJRERErSSJiIiolSQRERG1kiQiIqJWkkRERNRKkoiIiFqTfhRYSeuAXzQdx0aYCdzedBAbIfH23mSLOfH2Xq9jvh3A9sFjFZz8w3LAL7oZ7rZfSBpKvL0z2eKFyRdz4u29foo5zU0REVErSSIiImo9GpLECU0HsJESb29Ntnhh8sWceHuvb2Ke9B3XERHRO4+GmkRERPRIkkRERNSaFElC0sGSfiHpOklHd1i+jaRTy/JLJM2d+CgfEdNYMR8maY2ky8vrTU3EWWL5sqTbJF1ds1ySji+f5UpJCyY6xg4xjRXzAZLubjm+H5roGNvimS3pfEnXSrpG0js6lOmb49xlvH1zjCVtK+knkq4o8R7ToUzfnCe6jLc/zhG2+/oFTAOuB54MbA1cATyzrczbgM+X90uBUydBzIcBn236+JZY9gcWAFfXLH858G1AwHOBSyZBzAcAZzUdZ0s8uwALyvvtgVUdvhN9c5y7jLdvjnE5ZtPL+62AS4DntpXpm/NEl/H2xTliMtQk9gaus32D7d8Dy4FXt5V5NfCV8v4bwIskaQJjbNdNzH3D9g+AtaMUeTVwkisXAztJ2mViouusi5j7iu1bbF9a3q8DrgV2bSvWN8e5y3j7Rjlm95bJrcqr/aqcvjlPdBlvX5gMSWJX4KaW6Zt55Jf1j2VsrwfuBmZMSHSddRMzwF+UZoVvSJo9MaFtkm4/T795XqnOf1vSs5oOZkRp5ngO1a/HVn15nEeJF/roGEuaJuly4DbgO7Zrj28/nCe6iBf64BwxGZJEp0zfnnG7KTORuonnW8Bc23sC32XDL5x+1G/HtxuXAnNs/xnwGeCbDccDgKTpwGnAO23f0764wyqNHucx4u2rY2z7Qdvzgd2AvSXNayvSV8e3i3j74hwxGZLEzUBrBt0NWF1XRtKWwI402xQxZsy277D9uzL5BWDhBMW2Kbr5G/QV2/eMVOdtnwNsJWlmkzFJ2orqhPsftk/vUKSvjvNY8fbjMS6x3AVcALQPXtdv5wmgPt5+OUdMhiTxU+Bpkp4kaWuqDqcz28qcCbyxvF8CfN+l56chY8bc1tb8Kqo23351JvCGcvXNc4G7bd/SdFCjkfSEkfZmSXtTfdfvaDAeAV8CrrX9qZpifXOcu4m3n46xpFmSdirvHwO8GPh5W7G+OU90E2+/nCP6fhRY2+slvR04l+qqoS/bvkbSR4Eh22dSfZn/XdJ1VL8MljYXcdcxHynpVcB6qpgPaypeSadQXakyU9LNwIepOtKw/XngHKorb64D7gcObybSDbqIeQnwVknrgQeApQ3/cNgXeD1wVWmHBvhbYHfoy+PcTbz9dIx3Ab4iaRpVsvqa7bP6+DzRTbx9cY7IsBwREVFrMjQ3RUREQ5IkIiKiVpJERETUSpKIiIhaSRIREVErSSL6mqQPlFEyrywjYe5T5r9T0nbjuJ9fbc6NYGVE1LNq5t8t6TJVowL/QNIhm7Gft0h6wxhlFkl6Zsv0RyW9eFP3GVNb398nEVOXpOcBh1CNRvq7chLfuix+J3Ay1f0ETcQ2zfaDXRb/oe1DynrzgW9KesD29zZ2v+X+hLEsAs4CflbWaXSY9JjcUpOIfrYLcPvI0AS2b7e9WtKRwBOB8yWdDyDpXyUNqW1s/lJDOEbSpZKukrRHmT9D0nnlF/7/p2VcH0nflDRctrWsZf695Vf5JVQD2x0s6eeSVgJ/3s0Hsn058FHg7WWbsySdJumn5bWvpC1K3Du17Ps6STtL+oik95R5by7rXFG2sZ2k51PdnfvJUvN6iqQTJS0p67yofOarVD2TY5vRjlNEkkT0s/OA2ZJWSfoXSS8EsH081ZhGB9o+sJT9gO0BYE/ghZL2bNnO7bYXAP8KvKfM+zCw0vZzqIZr2L2l/F/ZXggMUN31OjJS6GOpnl+xDzBENZ7OK4EXAE/YiM91KTByEv5n4NO29wL+Avii7YeA/wQWA5Qmtl/ZvrVtO6fb3qsMsHctcITtH5fPc5Tt+bavHyksaVvgROBQ28+makl46xjHKaa4JInoW2XwuIXAMmANcKqkw2qKv0bSpcBlwLOAZ7YsGxmcbhiYW97vT9Vche2zgTtbyh8p6QrgYqoB4Z5W5j9INeAdVCf5G23/sgxFcfJGfLTW0UhfDHy2DH1xJrCDpO2BU4FDS5mlZbrdPEk/lHQV8Dqqzz2ap5eYV5Xpr1AdhxGdjlNMcemTiL5W2v0vAC4oJ8M3Uv0a/iNJT6L65buX7TslnQhs21JkZCTNB3n4d/4RY9JIOoDqxP082/dLuqBlW79t64fY1DFtnsOGwdq2KPt6oC2Oi4CnSppF1cfw9x22cyKwyPYVJXkeMMZ+x3rATt1xiiksNYnoW5KeLulpLbPmA78u79dRPVYTYAfgPuBuSTsDL+ti8z+g+vWNpJcBjyvzdwTuLAliD6rHiHbyc+BJkp5Spge72CelGezvgM+VWedR+ifK8vlQPbkMOAP4FNVIrJ1GV90euEXVkN6va5nfemzaY54r6all+vXAhd3EHVNXfi1EP5sOfKZ04K6nGh11pCP5BODbkm6xfaCky4BrgBuAH3Wx7WOAU0oT1YXAb8r8FcBbJF0J/IKqyekRbP+2dGqfLel2YCXQ/tCYES8o8W1H9RSyI1uubDoS+FzZ35ZUyestZdmpVMPOH1az3b+jelrcr4Gr2JAYlgNfKB38S9piPhz4uqrnKfwU6OZqqZjCMgpsRETUSnNTRETUSpKIiIhaSRIREVErSSIiImolSURERK0kiYiIqJUkERERtf4Ho18+swRVKQkAAAAASUVORK5CYII=\n",
      "text/plain": [
       "<Figure size 432x288 with 1 Axes>"
      ]
     },
     "metadata": {
      "needs_background": "light"
     },
     "output_type": "display_data"
    }
   ],
   "source": [
    "stdevs = df.std(axis=0)\n",
    "stdevs_new = stdevs[1:10]\n",
    "ys = stdevs_new.index\n",
    "\n",
    "plt.barh(ys,stdevs_new, color='red')\n",
    "plt.xlabel('Standard Deviation')\n",
    "plt.ylabel('Columns')\n",
    "plt.title('Standard Deviation of Columns')\n"
   ]
  },
  {
   "cell_type": "markdown",
   "metadata": {},
   "source": [
    "According to the chart above, the A7 feature has the most variation, followed by A3 and A9."
   ]
  },
  {
   "cell_type": "code",
   "execution_count": 12,
   "metadata": {},
   "outputs": [
    {
     "name": "stdout",
     "output_type": "stream",
     "text": [
      "Pre-Pipeline Scaler Centroids\n",
      "[[2.92511013 1.25110132 1.37444934 1.3061674  2.05506608 1.33145374\n",
      "  2.06167401 1.22026432 1.06828194]\n",
      " [7.12403101 8.33333333 8.03875969 6.6124031  6.47286822 7.19085271\n",
      "  6.90697674 7.74418605 3.30232558]\n",
      " [7.25       4.72413793 5.00862069 4.44827586 4.13793103 8.1512069\n",
      "  4.96551724 3.88793103 1.72413793]]\n",
      "Post-Scaler Centroids\n",
      "[[ 1.11518184  1.75960552  1.80084223  1.63505287  1.87330381  1.19928667\n",
      "   1.39355577  1.5729295   3.65941892]\n",
      " [ 0.95361883  1.05168202  1.04393142  0.85792234  0.84317571  1.1152004\n",
      "   1.0022244   0.91487723  0.02076409]\n",
      " [-0.5241742  -0.61999046 -0.61971001 -0.52155989 -0.5336692  -0.60469451\n",
      "  -0.56841908 -0.54268116 -0.2990286 ]]\n",
      "Post-Normal Centroids\n",
      "[[0.67132257 0.21238884 0.23500721 0.21330929 0.33812464 0.19171051\n",
      "  0.32557716 0.19833889 0.17921977]\n",
      " [0.29092162 0.28705049 0.29229585 0.26890575 0.4288157  0.22760942\n",
      "  0.4362904  0.28336755 0.22911778]\n",
      " [0.35789857 0.30019441 0.31199057 0.27840658 0.26147885 0.4885896\n",
      "  0.29897791 0.26861181 0.11320783]]\n"
     ]
    }
   ],
   "source": [
    "from sklearn.pipeline import make_pipeline\n",
    "from sklearn.preprocessing import StandardScaler\n",
    "from sklearn.preprocessing import Normalizer\n",
    "\n",
    "scaler = StandardScaler()\n",
    "normalizer = Normalizer()\n",
    "kmeans_scaler = KMeans(n_clusters = 3)\n",
    "kmeans_normal = KMeans(n_clusters = 3)\n",
    "\n",
    "kmeans_scaler.fit(points)\n",
    "centroids_a= kmeans_scaler.fit(points).cluster_centers_\n",
    "print(\"Pre-Pipeline Scaler Centroids\")\n",
    "print(centroids_a)\n",
    "\n",
    "pipeline = make_pipeline(scaler, kmeans_scaler)\n",
    "pipeline.fit(points)\n",
    "centroids_scaler = pipeline.fit(points).steps[1][1].cluster_centers_\n",
    "print(\"Post-Scaler Centroids\")\n",
    "print(centroids_scaler)\n",
    "\n",
    "pipeline2 = make_pipeline(normalizer, kmeans_normal)\n",
    "pipeline2.fit(points)\n",
    "centroids_normal = pipeline2.fit(points).steps[1][1].cluster_centers_\n",
    "print('Post-Normal Centroids')\n",
    "print(centroids_normal)"
   ]
  },
  {
   "cell_type": "markdown",
   "metadata": {},
   "source": [
    "# Phase 3 Solutions"
   ]
  },
  {
   "cell_type": "code",
   "execution_count": 13,
   "metadata": {},
   "outputs": [
    {
     "name": "stdout",
     "output_type": "stream",
     "text": [
      "First 15 records:\n",
      "         Scn  A2  A3  A4  A5  A6    A7  A8  A9  A10  CLASS  KMeans_label\n",
      "0   1000025   5   1   1   1   2   1.0   3   1    1      2             2\n",
      "1   1002945   5   4   4   5   7  10.0   3   2    1      2             4\n",
      "2   1015425   3   1   1   1   2   2.0   3   1    1      2             2\n",
      "3   1016277   6   8   8   1   3   4.0   3   7    1      2             4\n",
      "4   1017023   4   1   1   3   2   1.0   3   1    1      2             2\n",
      "5   1017122   8  10  10   8   7  10.0   9   7    1      4             4\n",
      "6   1018099   1   1   1   1   2  10.0   3   1    1      2             2\n",
      "7   1018561   2   1   2   1   2   1.0   3   1    1      2             2\n",
      "8   1033078   2   1   1   1   2   1.0   1   1    5      2             2\n",
      "9   1033078   4   2   1   1   2   1.0   2   1    1      2             2\n",
      "10  1035283   1   1   1   1   1   1.0   3   1    1      2             2\n",
      "11  1036172   2   1   1   1   2   1.0   2   1    1      2             2\n",
      "12  1041801   5   3   3   3   2   3.0   4   4    1      4             2\n",
      "13  1043999   1   1   1   1   2   3.0   3   1    1      2             2\n",
      "14  1044572   8   7   5  10   7   9.0   5   5    4      4             4\n",
      "\n",
      "DataFrame Count of Labels and Class:\n",
      " KMeans_label  CLASS\n",
      "2             2        447\n",
      "              4         19\n",
      "4             2         11\n",
      "              4        222\n",
      "dtype: int64\n"
     ]
    }
   ],
   "source": [
    "# Change KMeans iterations to 500, centriods to 20, and 2 clusters\n",
    "model = KMeans(n_clusters=2, max_iter=500, n_init=20)\n",
    "\n",
    "#save predicted clusters into variable: labels\n",
    "model.fit(points)\n",
    "labels = model.predict(points)\n",
    "\n",
    "#create new column with labels\n",
    "df['KMeans_label']= labels\n",
    "\n",
    "#change label values (0->2; 1->4)\n",
    "df['KMeans_label'] = df['KMeans_label'].replace(0, 2)\n",
    "df['KMeans_label'] = df['KMeans_label'].replace(1, 4)\n",
    "\n",
    "#print first 15 records\n",
    "print(\"First 15 records:\\n\", df.head(15))\n",
    "\n",
    "#aggregated count\n",
    "print(\"\\nDataFrame Count of Labels and Class:\\n\", df.groupby(['KMeans_label','CLASS']).size())\n"
   ]
  },
  {
   "cell_type": "markdown",
   "metadata": {},
   "source": [
    "## Error Rate Function"
   ]
  },
  {
   "cell_type": "code",
   "execution_count": 49,
   "metadata": {},
   "outputs": [],
   "source": [
    "def error_rate(kmeans_col, class_col):\n",
    "    \n",
    "    #Create a DataFrame in order to filter the corresponding labels\n",
    "    new_df = pd.concat([kmeans_col, class_col], axis=1)\n",
    "    \n",
    "    #Use .loc method to filter the labels that were incorrect\n",
    "    #Notice that I selected Kmeans_label as the second argument of .loc to give a Series\n",
    "    #Having a Series vs a DataFrame with the .count method will provide an integer\n",
    "    benign_mistakes = new_df.loc[(new_df['KMeans_label']==4) & (new_df['CLASS']==2), 'KMeans_label'].count()\n",
    "    tot_benign_labels = new_df.loc[new_df['KMeans_label']==2, 'KMeans_label'].count()\n",
    "    benign_error_rate = round((benign_mistakes/tot_benign_labels*100),2)\n",
    "    \n",
    "    #Use the same strategy for malign\n",
    "    malign_mistakes = new_df.loc[(new_df['KMeans_label']==2) & (new_df['CLASS']==4), 'KMeans_label'].count()\n",
    "    tot_malign_labels = new_df.loc[new_df['KMeans_label']==4, 'KMeans_label'].count()\n",
    "    malign_error_rate = round((malign_mistakes/tot_malign_labels*100), 2)\n",
    "    \n",
    "    #Calculate the total error by summing the mistakes and dividing by the total values\n",
    "    total_values = new_df['KMeans_label'].count()\n",
    "    total_error = round(((benign_mistakes + malign_mistakes)/total_values)*100,2)\n",
    "    \n",
    "    print('The error rate for benign is ',benign_error_rate, '%')\n",
    "    print('The error rate for malign is ',malign_error_rate, '%')\n",
    "    print('The total error is ', total_error, '%')"
   ]
  },
  {
   "cell_type": "markdown",
   "metadata": {},
   "source": [
    "Call the error rate function using the appropriate columns"
   ]
  },
  {
   "cell_type": "code",
   "execution_count": 51,
   "metadata": {},
   "outputs": [
    {
     "name": "stdout",
     "output_type": "stream",
     "text": [
      "The error rate for benign is  2.36 %\n",
      "The error rate for malign is  8.15 %\n",
      "The total error is  4.29 %\n"
     ]
    }
   ],
   "source": [
    "error_rate(df['KMeans_label'], df['CLASS'])  "
   ]
  },
  {
   "cell_type": "code",
   "execution_count": null,
   "metadata": {},
   "outputs": [],
   "source": []
  }
 ],
 "metadata": {
  "kernelspec": {
   "display_name": "Python 3",
   "language": "python",
   "name": "python3"
  },
  "language_info": {
   "codemirror_mode": {
    "name": "ipython",
    "version": 3
   },
   "file_extension": ".py",
   "mimetype": "text/x-python",
   "name": "python",
   "nbconvert_exporter": "python",
   "pygments_lexer": "ipython3",
   "version": "3.7.0"
  }
 },
 "nbformat": 4,
 "nbformat_minor": 2
}

{
   "cell_type": "markdown",
   "metadata": {},
   "source": [
    "This modeling project demonstrated the importance of running multiple tests and understanding your initial data. Had we stopped after Phase 2, running only 300 iterations and creating 3 clusters, our model would have been useless, as there are only 2 possible categories of tumors. This shows that while clustering and other models can produce mathematically valid result, they can still be wrong in a practical sense and that apply domain specific knowledge is important. This exercise has also shown the importance of iterating and tuning a model, as well as knowing when to stop. For some application, the 4% total error rate arrived at may be appropriate, for an application as important as identifying the nature of breast tissue tumors, it seems rather high, especially when the false positive rate on malignant tumors exceeds 8%. From a practical modeling standpoint, the project demonstrates that even for a relatively small and clean dataset, preprocessing and data cleansing is an important step and that exploring the data to look for patterns and issues is vital. Lastly, from a course perspective, this project did an excellent job at pulling together the wide range of python learning encountered during the semester into a coherent and practical final project. "
   ]
  },
