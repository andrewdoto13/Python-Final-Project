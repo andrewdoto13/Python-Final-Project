{
 "cells": [
  {
   "cell_type": "markdown",
   "metadata": {},
   "source": [
    "# I590 Python Final Project\n",
    "## Andrew Doto, Greg Platt, Thomas Kirnbauer"
   ]
  },
  {
   "cell_type": "markdown",
   "metadata": {},
   "source": [
    "# Phase 1 Solutions\n",
    "\n",
    "### Questions 1 -> 4"
   ]
  },
  {
   "cell_type": "code",
   "execution_count": 12,
   "metadata": {},
   "outputs": [
    {
     "name": "stdout",
     "output_type": "stream",
     "text": [
      "Scn       int64\n",
      "A2        int64\n",
      "A3        int64\n",
      "A4        int64\n",
      "A5        int64\n",
      "A6        int64\n",
      "A7       object\n",
      "A8        int64\n",
      "A9        int64\n",
      "A10       int64\n",
      "CLASS     int64\n",
      "dtype: object\n",
      "Number of NaN entries by column:\n",
      "Scn       0\n",
      "A2        0\n",
      "A3        0\n",
      "A4        0\n",
      "A5        0\n",
      "A6        0\n",
      "A7       16\n",
      "A8        0\n",
      "A9        0\n",
      "A10       0\n",
      "CLASS     0\n",
      "dtype: int64\n",
      "Scn      1.071704e+06\n",
      "A2       4.417740e+00\n",
      "A3       3.134478e+00\n",
      "A4       3.207439e+00\n",
      "A5       2.806867e+00\n",
      "A6       3.216023e+00\n",
      "A7       3.544656e+00\n",
      "A8       3.437768e+00\n",
      "A9       2.866953e+00\n",
      "A10      1.589413e+00\n",
      "CLASS    2.689557e+00\n",
      "dtype: float64\n"
     ]
    }
   ],
   "source": [
    "import pandas as pd\n",
    "import numpy as np\n",
    "import matplotlib.pyplot as plt\n",
    "%matplotlib inline \n",
    "\n",
    "##Note: this prints the dataframe at the end of each step, if you don't want to see every step, you can comment out \n",
    "##lines reading print(df) without impacting the program\n",
    "\n",
    "##Step 1: import data and create dataframe\n",
    "data = pd.read_csv('Breast-Cancer-Wisconsin.csv')\n",
    "\n",
    "df = pd.DataFrame(data)\n",
    "df.head()\n",
    "\n",
    "##print(df)\n",
    "\n",
    "##Step 2: replace ? with Nan\n",
    "df['A7'] = df['A7'].replace('?', np.NaN)\n",
    "\n",
    "##print(df)\n",
    "print(df.dtypes)\n",
    "\n",
    "##Step 3: change A7 datatype to numeric\n",
    "\n",
    "df['A7'] = pd.to_numeric(df['A7'])\n",
    "\n",
    "##print(df)\n",
    "##print(df.dtypes)\n",
    "\n",
    "##Step 4: Count NaN\n",
    "print(\"Number of NaN entries by column:\")\n",
    "print(df.isnull().sum())\n",
    "\n",
    "##Step 5: Calculate Column Means\n",
    "print(df.mean(skipna='True'))\n",
    "\n",
    "##Step 6: Replace NaN with Column Mean\n",
    "df.fillna(value=(round(df.mean(skipna='True'),2)), inplace=True)"
   ]
  },
  {
   "cell_type": "markdown",
   "metadata": {},
   "source": [
    "### Questions 5 - 8"
   ]
  },
  {
   "cell_type": "code",
   "execution_count": 2,
   "metadata": {},
   "outputs": [
    {
     "name": "stdout",
     "output_type": "stream",
     "text": [
      "The summary statistics for the dataframe:\n",
      "       count        mean        std      min       25%        50%        75%  \\\n",
      "Scn    699.0  1071704.10  617095.73  61634.0  870688.5  1171710.0  1238298.0   \n",
      "A2     699.0        4.42       2.82      1.0       2.0        4.0        6.0   \n",
      "A3     699.0        3.13       3.05      1.0       1.0        1.0        5.0   \n",
      "A4     699.0        3.21       2.97      1.0       1.0        1.0        5.0   \n",
      "A5     699.0        2.81       2.86      1.0       1.0        1.0        4.0   \n",
      "A6     699.0        3.22       2.21      1.0       2.0        2.0        4.0   \n",
      "A7     699.0        3.54       3.60      1.0       1.0        1.0        5.0   \n",
      "A8     699.0        3.44       2.44      1.0       2.0        3.0        5.0   \n",
      "A9     699.0        2.87       3.05      1.0       1.0        1.0        4.0   \n",
      "A10    699.0        1.59       1.72      1.0       1.0        1.0        1.0   \n",
      "CLASS  699.0        2.69       0.95      2.0       2.0        2.0        4.0   \n",
      "\n",
      "              max  \n",
      "Scn    13454352.0  \n",
      "A2           10.0  \n",
      "A3           10.0  \n",
      "A4           10.0  \n",
      "A5           10.0  \n",
      "A6           10.0  \n",
      "A7           10.0  \n",
      "A8           10.0  \n",
      "A9           10.0  \n",
      "A10          10.0  \n",
      "CLASS         4.0  \n",
      "\n",
      "The number of rows in the dataframe: 699\n",
      "The number of columns in the dataframe: 11\n",
      "The number of unique ID values: 645\n"
     ]
    },
    {
     "data": {
      "image/png": "[encoded data removed]",
      "text/plain": [
       "<Figure size 720x720 with 9 Axes>"
      ]
     },
     "metadata": {
      "needs_background": "light"
     },
     "output_type": "display_data"
    }
   ],
   "source": [
    "#step 5,6 - summary statistics\n",
    "print('The summary statistics for the dataframe:')\n",
    "print(df.describe().transpose().round(2))\n",
    "print('\\nThe number of rows in the dataframe:', len(df))\n",
    "print('The number of columns in the dataframe:', len(df.columns))\n",
    "\n",
    "#step 7 - unique ID values\n",
    "print('The number of unique ID values:', df['Scn'].nunique())\n",
    "\n",
    "#step 8 - histograms for relevant columns\n",
    "import matplotlib.pyplot as plt\n",
    "hist = df.loc[:, 'A2':'A10'].hist(grid=False, figsize=(10,10), layout=(3,3), alpha = .75, color='c')\n",
    "plt.show()"
   ]
  },
  {
   "cell_type": "markdown",
   "metadata": {},
   "source": [
    "### Bar Chart"
   ]
  },
  {
   "cell_type": "markdown",
   "metadata": {},
   "source": [
    "Replace the 2 and 4 values with the categories that they represent, and then plot a bar chart"
   ]
  },
  {
   "cell_type": "code",
   "execution_count": 3,
   "metadata": {},
   "outputs": [
    {
     "data": {
      "text/plain": [
       "Text(0,0.5,'Count')"
      ]
     },
     "execution_count": 3,
     "metadata": {},
     "output_type": "execute_result"
    },
    {
     "data": {
      "image/png": "[encoded data removed]",
      "text/plain": [
       "<Figure size 432x288 with 1 Axes>"
      ]
     },
     "metadata": {
      "needs_background": "light"
     },
     "output_type": "display_data"
    }
   ],
   "source": [
    "class_counts = df.groupby(['CLASS'], as_index=False).count()\n",
    "class_counts['CLASS'] = class_counts['CLASS'].replace(2, 'Benign').replace(4,'Malignant')\n",
    "barx = class_counts['CLASS']\n",
    "bary = class_counts['Scn']\n",
    "plt.bar(barx,bary,color=['green', 'red'])\n",
    "plt.title('Class Counts')\n",
    "plt.xlabel('Category')\n",
    "plt.ylabel('Count')"
   ]
  },
  {
   "cell_type": "markdown",
   "metadata": {},
   "source": [
    "### Scatterplot"
   ]
  },
  {
   "cell_type": "markdown",
   "metadata": {},
   "source": [
    "Select two columns and create a scatterplot"
   ]
  },
  {
   "cell_type": "code",
   "execution_count": 4,
   "metadata": {},
   "outputs": [
    {
     "data": {
      "text/plain": [
       "Text(0,0.5,'Mitoses')"
      ]
     },
     "execution_count": 4,
     "metadata": {},
     "output_type": "execute_result"
    },
    {
     "data": {
      "image/png": "[encoded data removed]",
      "text/plain": [
       "<Figure size 432x288 with 1 Axes>"
      ]
     },
     "metadata": {
      "needs_background": "light"
     },
     "output_type": "display_data"
    }
   ],
   "source": [
    "scatterx = df['A9']\n",
    "scattery = df['A10']\n",
    "plt.scatter(scatterx, scattery, color='red')\n",
    "plt.title('Normal Nuclei and Mitoses')\n",
    "plt.xlabel('Normal Nuclei')\n",
    "plt.ylabel('Mitoses')"
   ]
  },
  {
   "cell_type": "markdown",
   "metadata": {},
   "source": [
    "### Summary"
   ]
  },
  {
   "cell_type": "markdown",
   "metadata": {},
   "source": [
    "Explore descriptive statistics and correlation matrix of the dataset"
   ]
  },
  {
   "cell_type": "code",
   "execution_count": 5,
   "metadata": {},
   "outputs": [
    {
     "data": {
      "text/html": [
       "<div>\n",
       "<style scoped>\n",
       "    .dataframe tbody tr th:only-of-type {\n",
       "        vertical-align: middle;\n",
       "    }\n",
       "\n",
       "    .dataframe tbody tr th {\n",
       "        vertical-align: top;\n",
       "    }\n",
       "\n",
       "    .dataframe thead th {\n",
       "        text-align: right;\n",
       "    }\n",
       "</style>\n",
       "<table border=\"1\" class=\"dataframe\">\n",
       "  <thead>\n",
       "    <tr style=\"text-align: right;\">\n",
       "      <th></th>\n",
       "      <th>Scn</th>\n",
       "      <th>A2</th>\n",
       "      <th>A3</th>\n",
       "      <th>A4</th>\n",
       "      <th>A5</th>\n",
       "      <th>A6</th>\n",
       "      <th>A7</th>\n",
       "      <th>A8</th>\n",
       "      <th>A9</th>\n",
       "      <th>A10</th>\n",
       "      <th>CLASS</th>\n",
       "    </tr>\n",
       "  </thead>\n",
       "  <tbody>\n",
       "    <tr>\n",
       "      <th>count</th>\n",
       "      <td>6.990000e+02</td>\n",
       "      <td>699.000000</td>\n",
       "      <td>699.000000</td>\n",
       "      <td>699.000000</td>\n",
       "      <td>699.000000</td>\n",
       "      <td>699.000000</td>\n",
       "      <td>699.000000</td>\n",
       "      <td>699.000000</td>\n",
       "      <td>699.000000</td>\n",
       "      <td>699.000000</td>\n",
       "      <td>699.000000</td>\n",
       "    </tr>\n",
       "    <tr>\n",
       "      <th>mean</th>\n",
       "      <td>1.071704e+06</td>\n",
       "      <td>4.417740</td>\n",
       "      <td>3.134478</td>\n",
       "      <td>3.207439</td>\n",
       "      <td>2.806867</td>\n",
       "      <td>3.216023</td>\n",
       "      <td>3.544549</td>\n",
       "      <td>3.437768</td>\n",
       "      <td>2.866953</td>\n",
       "      <td>1.589413</td>\n",
       "      <td>2.689557</td>\n",
       "    </tr>\n",
       "    <tr>\n",
       "      <th>std</th>\n",
       "      <td>6.170957e+05</td>\n",
       "      <td>2.815741</td>\n",
       "      <td>3.051459</td>\n",
       "      <td>2.971913</td>\n",
       "      <td>2.855379</td>\n",
       "      <td>2.214300</td>\n",
       "      <td>3.601852</td>\n",
       "      <td>2.438364</td>\n",
       "      <td>3.053634</td>\n",
       "      <td>1.715078</td>\n",
       "      <td>0.951273</td>\n",
       "    </tr>\n",
       "    <tr>\n",
       "      <th>min</th>\n",
       "      <td>6.163400e+04</td>\n",
       "      <td>1.000000</td>\n",
       "      <td>1.000000</td>\n",
       "      <td>1.000000</td>\n",
       "      <td>1.000000</td>\n",
       "      <td>1.000000</td>\n",
       "      <td>1.000000</td>\n",
       "      <td>1.000000</td>\n",
       "      <td>1.000000</td>\n",
       "      <td>1.000000</td>\n",
       "      <td>2.000000</td>\n",
       "    </tr>\n",
       "    <tr>\n",
       "      <th>25%</th>\n",
       "      <td>8.706885e+05</td>\n",
       "      <td>2.000000</td>\n",
       "      <td>1.000000</td>\n",
       "      <td>1.000000</td>\n",
       "      <td>1.000000</td>\n",
       "      <td>2.000000</td>\n",
       "      <td>1.000000</td>\n",
       "      <td>2.000000</td>\n",
       "      <td>1.000000</td>\n",
       "      <td>1.000000</td>\n",
       "      <td>2.000000</td>\n",
       "    </tr>\n",
       "    <tr>\n",
       "      <th>50%</th>\n",
       "      <td>1.171710e+06</td>\n",
       "      <td>4.000000</td>\n",
       "      <td>1.000000</td>\n",
       "      <td>1.000000</td>\n",
       "      <td>1.000000</td>\n",
       "      <td>2.000000</td>\n",
       "      <td>1.000000</td>\n",
       "      <td>3.000000</td>\n",
       "      <td>1.000000</td>\n",
       "      <td>1.000000</td>\n",
       "      <td>2.000000</td>\n",
       "    </tr>\n",
       "    <tr>\n",
       "      <th>75%</th>\n",
       "      <td>1.238298e+06</td>\n",
       "      <td>6.000000</td>\n",
       "      <td>5.000000</td>\n",
       "      <td>5.000000</td>\n",
       "      <td>4.000000</td>\n",
       "      <td>4.000000</td>\n",
       "      <td>5.000000</td>\n",
       "      <td>5.000000</td>\n",
       "      <td>4.000000</td>\n",
       "      <td>1.000000</td>\n",
       "      <td>4.000000</td>\n",
       "    </tr>\n",
       "    <tr>\n",
       "      <th>max</th>\n",
       "      <td>1.345435e+07</td>\n",
       "      <td>10.000000</td>\n",
       "      <td>10.000000</td>\n",
       "      <td>10.000000</td>\n",
       "      <td>10.000000</td>\n",
       "      <td>10.000000</td>\n",
       "      <td>10.000000</td>\n",
       "      <td>10.000000</td>\n",
       "      <td>10.000000</td>\n",
       "      <td>10.000000</td>\n",
       "      <td>4.000000</td>\n",
       "    </tr>\n",
       "  </tbody>\n",
       "</table>\n",
       "</div>"
      ],
      "text/plain": [
       "                Scn          A2          A3          A4          A5  \\\n",
       "count  6.990000e+02  699.000000  699.000000  699.000000  699.000000   \n",
       "mean   1.071704e+06    4.417740    3.134478    3.207439    2.806867   \n",
       "std    6.170957e+05    2.815741    3.051459    2.971913    2.855379   \n",
       "min    6.163400e+04    1.000000    1.000000    1.000000    1.000000   \n",
       "25%    8.706885e+05    2.000000    1.000000    1.000000    1.000000   \n",
       "50%    1.171710e+06    4.000000    1.000000    1.000000    1.000000   \n",
       "75%    1.238298e+06    6.000000    5.000000    5.000000    4.000000   \n",
       "max    1.345435e+07   10.000000   10.000000   10.000000   10.000000   \n",
       "\n",
       "               A6          A7          A8          A9         A10       CLASS  \n",
       "count  699.000000  699.000000  699.000000  699.000000  699.000000  699.000000  \n",
       "mean     3.216023    3.544549    3.437768    2.866953    1.589413    2.689557  \n",
       "std      2.214300    3.601852    2.438364    3.053634    1.715078    0.951273  \n",
       "min      1.000000    1.000000    1.000000    1.000000    1.000000    2.000000  \n",
       "25%      2.000000    1.000000    2.000000    1.000000    1.000000    2.000000  \n",
       "50%      2.000000    1.000000    3.000000    1.000000    1.000000    2.000000  \n",
       "75%      4.000000    5.000000    5.000000    4.000000    1.000000    4.000000  \n",
       "max     10.000000   10.000000   10.000000   10.000000   10.000000    4.000000  "
      ]
     },
     "execution_count": 5,
     "metadata": {},
     "output_type": "execute_result"
    }
   ],
   "source": [
    "df.describe()"
   ]
  },
  {
   "cell_type": "code",
   "execution_count": 6,
   "metadata": {},
   "outputs": [
    {
     "data": {
      "text/html": [
       "<div>\n",
       "<style scoped>\n",
       "    .dataframe tbody tr th:only-of-type {\n",
       "        vertical-align: middle;\n",
       "    }\n",
       "\n",
       "    .dataframe tbody tr th {\n",
       "        vertical-align: top;\n",
       "    }\n",
       "\n",
       "    .dataframe thead th {\n",
       "        text-align: right;\n",
       "    }\n",
       "</style>\n",
       "<table border=\"1\" class=\"dataframe\">\n",
       "  <thead>\n",
       "    <tr style=\"text-align: right;\">\n",
       "      <th></th>\n",
       "      <th>Scn</th>\n",
       "      <th>A2</th>\n",
       "      <th>A3</th>\n",
       "      <th>A4</th>\n",
       "      <th>A5</th>\n",
       "      <th>A6</th>\n",
       "      <th>A7</th>\n",
       "      <th>A8</th>\n",
       "      <th>A9</th>\n",
       "      <th>A10</th>\n",
       "      <th>CLASS</th>\n",
       "    </tr>\n",
       "  </thead>\n",
       "  <tbody>\n",
       "    <tr>\n",
       "      <th>Scn</th>\n",
       "      <td>1.000000</td>\n",
       "      <td>-0.055308</td>\n",
       "      <td>-0.041603</td>\n",
       "      <td>-0.041576</td>\n",
       "      <td>-0.064878</td>\n",
       "      <td>-0.045528</td>\n",
       "      <td>-0.098658</td>\n",
       "      <td>-0.060051</td>\n",
       "      <td>-0.052072</td>\n",
       "      <td>-0.034901</td>\n",
       "      <td>-0.080226</td>\n",
       "    </tr>\n",
       "    <tr>\n",
       "      <th>A2</th>\n",
       "      <td>-0.055308</td>\n",
       "      <td>1.000000</td>\n",
       "      <td>0.644913</td>\n",
       "      <td>0.654589</td>\n",
       "      <td>0.486356</td>\n",
       "      <td>0.521816</td>\n",
       "      <td>0.587311</td>\n",
       "      <td>0.558428</td>\n",
       "      <td>0.535835</td>\n",
       "      <td>0.350034</td>\n",
       "      <td>0.716001</td>\n",
       "    </tr>\n",
       "    <tr>\n",
       "      <th>A3</th>\n",
       "      <td>-0.041603</td>\n",
       "      <td>0.644913</td>\n",
       "      <td>1.000000</td>\n",
       "      <td>0.906882</td>\n",
       "      <td>0.705582</td>\n",
       "      <td>0.751799</td>\n",
       "      <td>0.686808</td>\n",
       "      <td>0.755721</td>\n",
       "      <td>0.722865</td>\n",
       "      <td>0.458693</td>\n",
       "      <td>0.817904</td>\n",
       "    </tr>\n",
       "    <tr>\n",
       "      <th>A4</th>\n",
       "      <td>-0.041576</td>\n",
       "      <td>0.654589</td>\n",
       "      <td>0.906882</td>\n",
       "      <td>1.000000</td>\n",
       "      <td>0.683079</td>\n",
       "      <td>0.719668</td>\n",
       "      <td>0.709609</td>\n",
       "      <td>0.735948</td>\n",
       "      <td>0.719446</td>\n",
       "      <td>0.438911</td>\n",
       "      <td>0.818934</td>\n",
       "    </tr>\n",
       "    <tr>\n",
       "      <th>A5</th>\n",
       "      <td>-0.064878</td>\n",
       "      <td>0.486356</td>\n",
       "      <td>0.705582</td>\n",
       "      <td>0.683079</td>\n",
       "      <td>1.000000</td>\n",
       "      <td>0.599599</td>\n",
       "      <td>0.665059</td>\n",
       "      <td>0.666715</td>\n",
       "      <td>0.603352</td>\n",
       "      <td>0.417633</td>\n",
       "      <td>0.696800</td>\n",
       "    </tr>\n",
       "    <tr>\n",
       "      <th>A6</th>\n",
       "      <td>-0.045528</td>\n",
       "      <td>0.521816</td>\n",
       "      <td>0.751799</td>\n",
       "      <td>0.719668</td>\n",
       "      <td>0.599599</td>\n",
       "      <td>1.000000</td>\n",
       "      <td>0.581272</td>\n",
       "      <td>0.616102</td>\n",
       "      <td>0.628881</td>\n",
       "      <td>0.479101</td>\n",
       "      <td>0.682785</td>\n",
       "    </tr>\n",
       "    <tr>\n",
       "      <th>A7</th>\n",
       "      <td>-0.098658</td>\n",
       "      <td>0.587311</td>\n",
       "      <td>0.686808</td>\n",
       "      <td>0.709609</td>\n",
       "      <td>0.665059</td>\n",
       "      <td>0.581272</td>\n",
       "      <td>1.000000</td>\n",
       "      <td>0.675899</td>\n",
       "      <td>0.577363</td>\n",
       "      <td>0.338750</td>\n",
       "      <td>0.816064</td>\n",
       "    </tr>\n",
       "    <tr>\n",
       "      <th>A8</th>\n",
       "      <td>-0.060051</td>\n",
       "      <td>0.558428</td>\n",
       "      <td>0.755721</td>\n",
       "      <td>0.735948</td>\n",
       "      <td>0.666715</td>\n",
       "      <td>0.616102</td>\n",
       "      <td>0.675899</td>\n",
       "      <td>1.000000</td>\n",
       "      <td>0.665878</td>\n",
       "      <td>0.344169</td>\n",
       "      <td>0.756616</td>\n",
       "    </tr>\n",
       "    <tr>\n",
       "      <th>A9</th>\n",
       "      <td>-0.052072</td>\n",
       "      <td>0.535835</td>\n",
       "      <td>0.722865</td>\n",
       "      <td>0.719446</td>\n",
       "      <td>0.603352</td>\n",
       "      <td>0.628881</td>\n",
       "      <td>0.577363</td>\n",
       "      <td>0.665878</td>\n",
       "      <td>1.000000</td>\n",
       "      <td>0.428336</td>\n",
       "      <td>0.712244</td>\n",
       "    </tr>\n",
       "    <tr>\n",
       "      <th>A10</th>\n",
       "      <td>-0.034901</td>\n",
       "      <td>0.350034</td>\n",
       "      <td>0.458693</td>\n",
       "      <td>0.438911</td>\n",
       "      <td>0.417633</td>\n",
       "      <td>0.479101</td>\n",
       "      <td>0.338750</td>\n",
       "      <td>0.344169</td>\n",
       "      <td>0.428336</td>\n",
       "      <td>1.000000</td>\n",
       "      <td>0.423170</td>\n",
       "    </tr>\n",
       "    <tr>\n",
       "      <th>CLASS</th>\n",
       "      <td>-0.080226</td>\n",
       "      <td>0.716001</td>\n",
       "      <td>0.817904</td>\n",
       "      <td>0.818934</td>\n",
       "      <td>0.696800</td>\n",
       "      <td>0.682785</td>\n",
       "      <td>0.816064</td>\n",
       "      <td>0.756616</td>\n",
       "      <td>0.712244</td>\n",
       "      <td>0.423170</td>\n",
       "      <td>1.000000</td>\n",
       "    </tr>\n",
       "  </tbody>\n",
       "</table>\n",
       "</div>"
      ],
      "text/plain": [
       "            Scn        A2        A3        A4        A5        A6        A7  \\\n",
       "Scn    1.000000 -0.055308 -0.041603 -0.041576 -0.064878 -0.045528 -0.098658   \n",
       "A2    -0.055308  1.000000  0.644913  0.654589  0.486356  0.521816  0.587311   \n",
       "A3    -0.041603  0.644913  1.000000  0.906882  0.705582  0.751799  0.686808   \n",
       "A4    -0.041576  0.654589  0.906882  1.000000  0.683079  0.719668  0.709609   \n",
       "A5    -0.064878  0.486356  0.705582  0.683079  1.000000  0.599599  0.665059   \n",
       "A6    -0.045528  0.521816  0.751799  0.719668  0.599599  1.000000  0.581272   \n",
       "A7    -0.098658  0.587311  0.686808  0.709609  0.665059  0.581272  1.000000   \n",
       "A8    -0.060051  0.558428  0.755721  0.735948  0.666715  0.616102  0.675899   \n",
       "A9    -0.052072  0.535835  0.722865  0.719446  0.603352  0.628881  0.577363   \n",
       "A10   -0.034901  0.350034  0.458693  0.438911  0.417633  0.479101  0.338750   \n",
       "CLASS -0.080226  0.716001  0.817904  0.818934  0.696800  0.682785  0.816064   \n",
       "\n",
       "             A8        A9       A10     CLASS  \n",
       "Scn   -0.060051 -0.052072 -0.034901 -0.080226  \n",
       "A2     0.558428  0.535835  0.350034  0.716001  \n",
       "A3     0.755721  0.722865  0.458693  0.817904  \n",
       "A4     0.735948  0.719446  0.438911  0.818934  \n",
       "A5     0.666715  0.603352  0.417633  0.696800  \n",
       "A6     0.616102  0.628881  0.479101  0.682785  \n",
       "A7     0.675899  0.577363  0.338750  0.816064  \n",
       "A8     1.000000  0.665878  0.344169  0.756616  \n",
       "A9     0.665878  1.000000  0.428336  0.712244  \n",
       "A10    0.344169  0.428336  1.000000  0.423170  \n",
       "CLASS  0.756616  0.712244  0.423170  1.000000  "
      ]
     },
     "execution_count": 6,
     "metadata": {},
     "output_type": "execute_result"
    }
   ],
   "source": [
    "df.corr()"
   ]
  },
  {
   "cell_type": "markdown",
   "metadata": {},
   "source": [
    "According the exploratory analysis, the dataset has a considerable amount of collinearity. This suggests that we need to think about using some form of dimension reduction to find the most relevant variables. "
   ]
  },
  {
   "cell_type": "markdown",
   "metadata": {},
   "source": [
    "# Phase 2 Solutions"
   ]
  },
  {
   "cell_type": "markdown",
   "metadata": {},
   "source": [
    "### Part 1 (Use KMeans Algorithm)"
   ]
  },
  {
   "cell_type": "code",
   "execution_count": 7,
   "metadata": {
    "scrolled": true
   },
   "outputs": [
    {
     "data": {
      "image/png": "[encoded data removed]",
      "text/plain": [
       "<Figure size 432x288 with 1 Axes>"
      ]
     },
     "metadata": {
      "needs_background": "light"
     },
     "output_type": "display_data"
    }
   ],
   "source": [
    "#use correlations high values high correlation between columns (closer to one)\n",
    "f1 = df['A3'].values\n",
    "f2 = df['A8'].values\n",
    "\n",
    "#Make a scater plot with two highly correlated features\n",
    "plt.scatter(f1,f2)\n",
    "plt.title('Breast Cancer Dataset, A3 vs. A8')\n",
    "plt.show()\n"
   ]
  },
  {
   "cell_type": "code",
   "execution_count": 8,
   "metadata": {},
   "outputs": [
    {
     "name": "stdout",
     "output_type": "stream",
     "text": [
      "The KMeans model fit to Breast Cancer dataset: KMeans(algorithm='auto', copy_x=True, init='k-means++', max_iter=300,\n",
      "    n_clusters=4, n_init=10, n_jobs=1, precompute_distances='auto',\n",
      "    random_state=None, tol=0.0001, verbose=0)\n"
     ]
    },
    {
     "data": {
      "image/png": "[encoded data removed]",
      "text/plain": [
       "<Figure size 432x288 with 1 Axes>"
      ]
     },
     "metadata": {
      "needs_background": "light"
     },
     "output_type": "display_data"
    }
   ],
   "source": [
    "#run the kmeans\n",
    "from sklearn.cluster import KMeans\n",
    "import numpy as np\n",
    "\n",
    "# run KMeans with 4 clusters\n",
    "model = KMeans(n_clusters=4)\n",
    "\n",
    "# create an array with the dataframe columns A2 - A10\n",
    "points = np.array(df.iloc[:,1:10])\n",
    "\n",
    "# fit kmeans object to df\n",
    "model.fit(points)\n",
    "print('The KMeans model fit to Breast Cancer dataset:', model.fit(points))\n",
    "labels = model.predict(points)\n",
    "\n",
    "\n",
    "#make a scatter plot with labels\n",
    "plt.scatter(f1,f2,c=labels)\n",
    "plt.title('Breast Cancer Dataset, KMeans')\n",
    "plt.show()\n",
    "\n"
   ]
  },
  {
   "cell_type": "code",
   "execution_count": 9,
   "metadata": {},
   "outputs": [
    {
     "name": "stdout",
     "output_type": "stream",
     "text": [
      "The centroids are:\n",
      " [[2.96936543 1.26039387 1.38512035 1.31291028 2.05251641 1.35115974\n",
      "  2.07658643 1.21006565 1.08315098]\n",
      " [7.24742268 4.83505155 5.02061856 4.7628866  4.08247423 9.22206186\n",
      "  5.24742268 3.79381443 1.64948454]\n",
      " [6.72151899 8.36708861 8.40506329 7.72151899 6.73417722 9.3164557\n",
      "  7.36708861 7.73417722 3.73417722]\n",
      " [7.53030303 7.34848485 6.93939394 4.39393939 5.78787879 3.47909091\n",
      "  5.5        7.15151515 2.43939394]]\n"
     ]
    },
    {
     "data": {
      "text/plain": [
       "Text(0.5,1,'Breast Cancer Dataset, KMeans with Centriods')"
      ]
     },
     "execution_count": 9,
     "metadata": {},
     "output_type": "execute_result"
    },
    {
     "data": {
      "image/png": "[encoded data removed]",
      "text/plain": [
       "<Figure size 432x288 with 1 Axes>"
      ]
     },
     "metadata": {
      "needs_background": "light"
     },
     "output_type": "display_data"
    }
   ],
   "source": [
    "#Calculate Centriods\n",
    "centroids = model.cluster_centers_\n",
    "print('The centroids are:\\n', centroids)\n",
    "\n",
    "# Assign the columns of centroids: centroids_x, centroids_y\n",
    "centroids_x = centroids[:,0]\n",
    "centroids_y = centroids[:,1]\n",
    "\n",
    "# Make a scatter plot of centroids_x and centroids_y\n",
    "plt.scatter(f1,f2,c=labels)\n",
    "plt.scatter(centroids_x,centroids_y, marker = 'X', s=150, c='black')\n",
    "plt.title('Breast Cancer Dataset, KMeans with Centriods')"
   ]
  },
  {
   "cell_type": "code",
   "execution_count": 10,
   "metadata": {},
   "outputs": [
    {
     "data": {
      "image/png": "[encoded data removed]",
      "text/plain": [
       "<Figure size 432x288 with 1 Axes>"
      ]
     },
     "metadata": {
      "needs_background": "light"
     },
     "output_type": "display_data"
    }
   ],
   "source": [
    "# Instantiate the k range and the inertia variables\n",
    "k_range = range(1, 15)\n",
    "inertia_list = []\n",
    "\n",
    "# loop through the ks range and append the inertias to a list\n",
    "for k in k_range:\n",
    "    model=KMeans(n_clusters=k)\n",
    "    \n",
    "    # Fit model to points\n",
    "    model.fit(points)\n",
    "    \n",
    "    # Append the inertia to the list of inertias\n",
    "    inertia_list.append(model.inertia_)\n",
    "    \n",
    "# Plot k number of clusters by inertia\n",
    "plt.plot(k_range, inertia_list,'-ro', color='red')\n",
    "plt.xlabel('number of clusters')\n",
    "plt.ylabel('inertia')\n",
    "plt.xticks(k_range)\n",
    "plt.title('Number of Clusters by Inertia')\n",
    "plt.show()"
   ]
  },
  {
   "cell_type": "markdown",
   "metadata": {},
   "source": [
    "From the chart above, it appears that the last significant change in inertia occurs from 2 to 3, so the optimal number of clusters is 3."
   ]
  },
  {
   "cell_type": "code",
   "execution_count": 11,
   "metadata": {},
   "outputs": [
    {
     "data": {
      "text/plain": [
       "Text(0.5,1,'Standard Deviation of Columns')"
      ]
     },
     "execution_count": 11,
     "metadata": {},
     "output_type": "execute_result"
    },
    {
     "data": {
      "image/png": "[encoded data removed]",
      "text/plain": [
       "<Figure size 432x288 with 1 Axes>"
      ]
     },
     "metadata": {
      "needs_background": "light"
     },
     "output_type": "display_data"
    }
   ],
   "source": [
    "stdevs = df.std(axis=0)\n",
    "stdevs_new = stdevs[1:10]\n",
    "ys = stdevs_new.index\n",
    "\n",
    "plt.barh(ys,stdevs_new, color='red')\n",
    "plt.xlabel('Standard Deviation')\n",
    "plt.ylabel('Columns')\n",
    "plt.title('Standard Deviation of Columns')\n"
   ]
  },
  {
   "cell_type": "markdown",
   "metadata": {},
   "source": [
    "According to the chart above, the A7 feature has the most variation, followed by A3 and A9."
   ]
  }
 ],
 "metadata": {
  "kernelspec": {
   "display_name": "Python 3",
   "language": "python",
   "name": "python3"
  },
  "language_info": {
   "codemirror_mode": {
    "name": "ipython",
    "version": 3
   },
   "file_extension": ".py",
   "mimetype": "text/x-python",
   "name": "python",
   "nbconvert_exporter": "python",
   "pygments_lexer": "ipython3",
   "version": "3.7.0"
  }
 },
 "nbformat": 4,
 "nbformat_minor": 2
}
